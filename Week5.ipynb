{
  "nbformat": 4,
  "nbformat_minor": 0,
  "metadata": {
    "colab": {
      "name": "Week5.ipynb",
      "provenance": [],
      "collapsed_sections": []
    },
    "kernelspec": {
      "name": "python3",
      "display_name": "Python 3"
    }
  },
  "cells": [
    {
      "cell_type": "markdown",
      "metadata": {
        "id": "9nECIB9roXOQ"
      },
      "source": [
        "\n",
        "# **Week 5**\n"
      ]
    },
    {
      "cell_type": "markdown",
      "metadata": {
        "id": "3Ao4Ey22ocdz"
      },
      "source": [
        "## **DAY 1**"
      ]
    },
    {
      "cell_type": "markdown",
      "metadata": {
        "id": "wowM6IYSopik"
      },
      "source": [
        "##### **Neural Network: Cost Function**"
      ]
    },
    {
      "cell_type": "markdown",
      "metadata": {
        "id": "OSmnGH5Co7eB"
      },
      "source": [
        "###### **Notion**\n",
        "\n",
        "1. **L**: Total Number of layers in the network.\n",
        "2. $S_l$: Number Of units in layer \"*L*\" (exclude Bias unit)\n",
        "3. **K**: Number of Output/Class"
      ]
    },
    {
      "cell_type": "markdown",
      "metadata": {
        "id": "lsBGjzPmsFxS"
      },
      "source": [
        "###### **Cost Function For Nueral Network without Regularization**\n",
        "\n",
        "$J(\\Theta) = -\\frac{1}{m}\\sum_{i=1}^{m}\\sum_{k=1}^{K} {[y_k^{(i)}\\log(h(\\Theta(x^{(i)}))_k) + [(1-y_k^{(i)})\\log(1-h(\\Theta(x^{(i)}))_k) ]}$\n"
      ]
    },
    {
      "cell_type": "markdown",
      "metadata": {
        "id": "23SUZoWHuNXi"
      },
      "source": [
        "###### **Code**"
      ]
    },
    {
      "cell_type": "code",
      "metadata": {
        "id": "Tr83TJkV0UBp"
      },
      "source": [
        "# Cost Function\n",
        "def cost_function(y, h):\n",
        "  m = y.shape[0]\n",
        "\n",
        "  # The great trick - we need to recode the labels as vectors containing only values 0 or 1\n",
        "  y_new = np.zeros((K,m)) # K x m\n",
        "\n",
        "  # One Hot- Encoding\n",
        "  for i in range(m):\n",
        "    y_new[y[i]-1,i] = 1 \n",
        "\n",
        "  J =  (-1/m)* np.sum( (y_new * np.log(h)) + ((1-y_new)*(np.log(1-h))) )\n",
        "  return J"
      ],
      "execution_count": null,
      "outputs": []
    },
    {
      "cell_type": "code",
      "metadata": {
        "colab": {
          "base_uri": "https://localhost:8080/"
        },
        "id": "0voTfsKVocAa",
        "outputId": "9b328d39-581c-4f0b-c7e8-d6660cf9acc3"
      },
      "source": [
        "import numpy as np\n",
        "import matplotlib.pyplot as plt\n",
        "\n",
        "def activation_function(z):\n",
        "  return 1/(1+np.exp(-z))\n",
        "\n",
        "features = 2\n",
        "examples = 3\n",
        "hidden_layer = 2\n",
        "K = 4 # no of lbl\n",
        "\n",
        "X = X = np.cos(np.array([[1,2] , [3,4] , [5,6]])) # 3 x 2 (3 examples, 2 features)\n",
        "y = np.array([[4],[2],[3]]) # 4 Classes (no of lbl = 4) (3 x 1)\n",
        "X = np.hstack((np.ones((examples,1)),X)) # 3 x 3 (bias Term)\n",
        "\n",
        "theta1 = np.array([[0.1,0.3,0.5],[0.2,0.4,0.6]]) # 2 x 3\n",
        "z_2 = theta1.dot(X.T) # 2 x 3\n",
        "a_2 = activation_function(z_2) # 2 x 3\n",
        "\n",
        "theta2 = np.array([[0.7,1.1,1.5],[0.8,1.2,1.6],[0.9,1.3,1.7],[1.0,1.4,1.8]]) # 4 x 3\n",
        "a_2 = np.hstack((np.ones((a_2.shape[1],1)),a_2.T)) # 3 x 3 (bias Term)\n",
        "z_3 = theta2.dot(a_2.T) # 4 x 3\n",
        "h = activation_function(z_3) # 4 x 3\n",
        "\n",
        "print(f\"Cost without regularization: {cost_function(y,h)}\")"
      ],
      "execution_count": null,
      "outputs": [
        {
          "output_type": "stream",
          "text": [
            "Cost without regularization: 7.40696985606575\n"
          ],
          "name": "stdout"
        }
      ]
    },
    {
      "cell_type": "markdown",
      "metadata": {
        "id": "AYH2hLtAugT-"
      },
      "source": [
        "## **DAY 2**"
      ]
    },
    {
      "cell_type": "markdown",
      "metadata": {
        "id": "ND7yFJoaOywA"
      },
      "source": [
        "###### **Cost Function For Nueral Network with Regularization**\n",
        "\n",
        "$J(\\Theta) = -\\frac{1}{m}\\sum_{i=1}^{m}\\sum_{k=1}^{K} {[y_k^{(i)}\\log(h(\\Theta(x^{(i)}))_k) + [(1-y_k^{(i)})\\log(1-h(\\Theta(x^{(i)}))_k) ]} + \\frac{\\lambda}{2m}\\sum_{l=1}^{L-1}\\sum_{i=1}^{s_{l}}\\sum_{j=1}^{s_{l+1}}(\\Theta^{(l)}_{j,i})^2$"
      ]
    },
    {
      "cell_type": "markdown",
      "metadata": {
        "id": "3FSFptTOQmhl"
      },
      "source": [
        "###### **Code**"
      ]
    },
    {
      "cell_type": "code",
      "metadata": {
        "id": "LgXo5_X6SzXP"
      },
      "source": [
        "# Regularization\n",
        "\n",
        "def regularize(*thetas):\n",
        "  i = 0\n",
        "  t = [0]*len(thetas)\n",
        "  while i < len(thetas):\n",
        "    t[i] = thetas[i][:,1:]\n",
        "    i+=1\n",
        "  \n",
        "  sqrCost = np.array(t,dtype='object')**2\n",
        "  sumCost = 0\n",
        "  for i in sqrCost:\n",
        "    sumCost += np.sum(i)\n",
        "  return sumCost\n",
        "\n",
        "def reg_Cost_Function(y, h, lambda_val, *thetas):\n",
        "  J = cost_function(y, h) + (regularize(*thetas) * (lambda_val/(2*y.shape[0])))\n",
        "  return J"
      ],
      "execution_count": null,
      "outputs": []
    },
    {
      "cell_type": "code",
      "metadata": {
        "id": "UaY6OnBxuXD4",
        "colab": {
          "base_uri": "https://localhost:8080/"
        },
        "outputId": "1b541606-4532-4fe5-dded-978f1e570284"
      },
      "source": [
        "lambda_val = 4\n",
        "J = reg_Cost_Function(y,h,lambda_val,theta1,theta2)\n",
        "print(f\"Cost with regularization: {J}\")"
      ],
      "execution_count": null,
      "outputs": [
        {
          "output_type": "stream",
          "text": [
            "Cost with regularization: 19.473636522732416\n"
          ],
          "name": "stdout"
        }
      ]
    },
    {
      "cell_type": "markdown",
      "metadata": {
        "id": "lHO0LYndutXh"
      },
      "source": [
        "## **DAY 3**"
      ]
    },
    {
      "cell_type": "markdown",
      "metadata": {
        "id": "1aKHKMrFvjEA"
      },
      "source": [
        "#### **Back Propogation**"
      ]
    },
    {
      "cell_type": "markdown",
      "metadata": {
        "id": "Xx9rUG6bPME6"
      },
      "source": [
        "###### **Intutuion**"
      ]
    },
    {
      "cell_type": "markdown",
      "metadata": {
        "id": "JNGMn3xLvq0k"
      },
      "source": [
        "Backpropagation\" is neural-network terminology for minimizing our cost function, just like what we were doing with gradient descent in logistic and linear regression.\n",
        "\n",
        "$\\min_\\Theta J(\\Theta)$"
      ]
    },
    {
      "cell_type": "markdown",
      "metadata": {
        "id": "-npuGcrZwdlD"
      },
      "source": [
        "In back propagation we're going to compute for every node:\n",
        "\n",
        "$\\delta_j^{(l)}$ = error in node $j$ in layer $l$\n",
        "\n",
        "For the last layer, we can compute the vector of delta values with:\n",
        "\n",
        "$\\delta^{(L)}=a^{(L)}-y$\n",
        "\n",
        "Where L is our total number of layers and $a^{(L)}$ is the vector of outputs of the activation units for the last layer. So our **\"error values\"** for the last layer are simply the differences of our actual results in the last layer and the correct outputs in y.\n",
        "\n",
        "To get the delta values of the layers before the last layer, we can use an equation that steps us back from right to left:\n",
        "\n",
        "$\\delta^{(l)} = ((\\Theta^{(l)})^{T}\\delta^{(l+1)}).*g'(z^{(l)})$\n",
        "\n",
        "The g-prime derivative terms can also be written out as:\n",
        "\n",
        "$g'(z) = g(z).*(1-g(z))$\n",
        "\n",
        "The full back propagation equation for the inner nodes is then:\n",
        "\n",
        "$\\delta^{(l)} = ((\\Theta^{(l)})^{T}\\delta^{(l+1)}).*a^{(l)}.*(1-a^{(l)})$\n",
        "\n",
        "The delta values of layer l are calculated by multiplying the delta values in the next layer with the theta matrix of layer l. We then element-wise multiply that with a function called g', or g-prime, which is the derivative of the activation function g evaluated with the input values given by $z(l)$.\n",
        "\n",
        "We can compute our partial derivative terms by multiplying our activation values and our error values for each training example t:\n",
        "\n",
        "$\\frac{∂{J(\\Theta)}}{∂{\\Theta^{(l)}_{i,j}}} = \\frac{1}{m}\\sum_{t=1}^{m}a^{(t)(l)}_j*\\delta^{(t)(l+1)}_i$"
      ]
    },
    {
      "cell_type": "markdown",
      "metadata": {
        "id": "Yk0uNYS0PFEM"
      },
      "source": [
        "###### **Agorithm**"
      ]
    },
    {
      "cell_type": "markdown",
      "metadata": {
        "id": "Y0SvRNF_PSF3"
      },
      "source": [
        "* Giving Training set {$(x^{(1)},y^{(1)}) \\dots (x^{(m)},y^{(m)})$}\n",
        "* Set $\\Delta^{(l)}_{i,j} := 0$ for all $(l,i,j)$\n",
        "> For all training example t=1 to m:\n",
        "* Set $a^{(1)} = x^{(t)}$\n",
        "* Perform forward propogation to calculate $a^{(l)}$ for l=2,3...L\n",
        "* Using $y^{(t)}$ compute $\\delta^{(L)} = a^{(L)}-y^{(t)}$\n",
        "* Compute $\\delta^{(L-1)}, \\delta^{(L-2)},\\dots,\\delta^{(2)}$ using $\\delta^{(l)} = ((\\Theta^{(l)})^{T}\\delta^{(l+1)}).*a^{(l)}.*(1-a^{(l)})$\n",
        "* $\\Delta^{(l)}_{i,j} := \\Delta^{(l)}_{i,j} + a_j^{(l)}δ_i^{(l+1)}$ or with vectorization, $Δ^{(l)} := Δ^{(l)} + δ^{(l+1)}(a^{(l)})^T$\n",
        "* $D_{i,j}^{(l)} := \\frac{1}{m}(Δ_{i,j}^{(l)}+λΘ_{i,j}^{(l)})$ If j≠0 (Regularization)\\\n",
        "* $D_{i,j}^{(l)} := \\frac{1}{m}Δ_{i,j}^{(l)}$ If j=0"
      ]
    },
    {
      "cell_type": "markdown",
      "metadata": {
        "id": "EpTEI2yXWTIF"
      },
      "source": [
        "$D_{i,j}^{(l)} = \\frac{∂J(Θ)}{∂Θ_{i,j}^{(l)}}$"
      ]
    },
    {
      "cell_type": "markdown",
      "metadata": {
        "id": "EYqzxE7vX4FK"
      },
      "source": [
        "**Note:**\n",
        "\n",
        "More formally, the delta values are actually the derivative of the cost function:\n",
        "\n",
        "$\\delta_j^{(l)} = \\dfrac{\\partial}{\\partial z_j^{(l)}} cost(t)$\n",
        "\n",
        "Recall that our derivative is the slope of a line tangent to the cost function, so the steeper the slope the more incorrect we are."
      ]
    },
    {
      "cell_type": "markdown",
      "metadata": {
        "id": "b0i1Vcwufxth"
      },
      "source": [
        "## **DAY 4**"
      ]
    },
    {
      "cell_type": "markdown",
      "metadata": {
        "id": "c576S7hogfo9"
      },
      "source": [
        "##### **Code**"
      ]
    },
    {
      "cell_type": "markdown",
      "metadata": {
        "id": "903KQ9mRgjBx"
      },
      "source": [
        "###### **Data initilization**"
      ]
    },
    {
      "cell_type": "code",
      "metadata": {
        "id": "yPk9urTm4VZX"
      },
      "source": [
        "def init_param(Layers):\n",
        "  thetas = [np.random.uniform(low=0,high=1,size=(j,i)) for i,j in zip(Layers[:-1],Layers[1:])]\n",
        "  baises = [np.ones((i,1)) for i in Layers[1:]]\n",
        "  return np.array(thetas,dtype=object),np.array(baises,dtype=object)"
      ],
      "execution_count": null,
      "outputs": []
    },
    {
      "cell_type": "markdown",
      "metadata": {
        "id": "XHPqsr5JgHvt"
      },
      "source": [
        "###### **Activation**"
      ]
    },
    {
      "cell_type": "code",
      "metadata": {
        "id": "rw7-t137gLtG"
      },
      "source": [
        "def activation(z, activationType=\"sigmoid\"):\n",
        "  if activationType == \"sigmoid\":\n",
        "    return sigmoid(z)\n",
        "\n",
        "def sigmoid(z):\n",
        "  z = np.array(z,dtype=np.float)\n",
        "  return 1/(1+np.exp(-z))"
      ],
      "execution_count": null,
      "outputs": []
    },
    {
      "cell_type": "markdown",
      "metadata": {
        "id": "xplov_mSiqTW"
      },
      "source": [
        "###### **Forward Propogation**"
      ]
    },
    {
      "cell_type": "code",
      "metadata": {
        "id": "pDeyQ8ng5UXj"
      },
      "source": [
        "def forward_propogation(X, thetas, baises):\n",
        "  output = [X]\n",
        "  for theta,bais in zip(thetas,baises):\n",
        "    Z = np.dot(theta,output[-1].T) + bais\n",
        "    output.append( activation( Z ,activationType=\"sigmoid\" ).T )\n",
        "\n",
        "  return output"
      ],
      "execution_count": null,
      "outputs": []
    },
    {
      "cell_type": "markdown",
      "metadata": {
        "id": "P7kUVYb4kIK1"
      },
      "source": [
        "###### **Backward Propogation**"
      ]
    },
    {
      "cell_type": "code",
      "metadata": {
        "id": "0wtT8Y33fNo0"
      },
      "source": [
        "import copy\n",
        "def backward_propagation(y, output, thetas, baises):\n",
        "  m = y.shape[0]\n",
        "  delta = []\n",
        "  dt = []\n",
        "  db = []\n",
        "  \n",
        "  delta = [(output[-1]-y).T * output[-1].T * (1-output[-1].T)]  \n",
        "  for i in range(-len(thetas),-4,-1):\n",
        "    dt.append((1/m) * np.dot(delta[-1], output[i])) \n",
        "    db.append((1/m) * np.sum(delta[-1]))\n",
        "    if(i != -3):\n",
        "      delta.append(np.dot(thetas[-1].T, delta[-1]) * output[i].T * (1-output[i]).T)\n",
        "    \n",
        "\n",
        "  # delta = [(output[-1]-y).T * output[-1].T * (1-output[-1].T)]  # (4x1)]\n",
        "  # dt2 = (1/m) * np.dot(delta[-1], output[-2]) # (1x4) (4x2)\n",
        "  # db2 = (1/m) * np.sum(delta[-1])\n",
        "\n",
        "  # delta.append(np.dot(thetas[-1].T, delta[-1]) * output[-2].T * (1-output[-2]).T) #  (2x1) (1x4)\n",
        "  # dt1 = (1/m) * np.dot(delta[-1], output[-3]) # (2x4) (4x2)\n",
        "  # db1 = (1/m) * np.sum(delta[-1])\n",
        "\n",
        "  der_t = np.array(dt,dtype=object)\n",
        "  der_b = np.array(db,dtype=object)\n",
        "\n",
        "  return der_t[::-1], der_b[::-1]"
      ],
      "execution_count": null,
      "outputs": []
    },
    {
      "cell_type": "markdown",
      "metadata": {
        "id": "DXXe5NpoqG8V"
      },
      "source": [
        "###### **Update Parameters**"
      ]
    },
    {
      "cell_type": "code",
      "metadata": {
        "id": "9qnXC3rFfpXT"
      },
      "source": [
        "def update_param(thetas,baises,dt,db, alpha):\n",
        "\n",
        "  thetas = thetas - alpha*dt\n",
        "  baises = baises - alpha*db\n",
        "  return thetas,baises"
      ],
      "execution_count": null,
      "outputs": []
    },
    {
      "cell_type": "markdown",
      "metadata": {
        "id": "yNi4IQYyQHHl"
      },
      "source": [
        "###### **Cost**"
      ]
    },
    {
      "cell_type": "code",
      "metadata": {
        "id": "nFI9T5NoQKJp"
      },
      "source": [
        "def Cost(h,y):\n",
        "  m = y.shape[0]\n",
        "  return (-1/m)* np.sum( (y * np.log(h)) + ((1-y)*(np.log(1-h))) )"
      ],
      "execution_count": null,
      "outputs": []
    },
    {
      "cell_type": "markdown",
      "metadata": {
        "id": "EOIPHCMHrKMv"
      },
      "source": [
        "###### **Gradient Descent**"
      ]
    },
    {
      "cell_type": "code",
      "metadata": {
        "id": "fAeLnB5ogFVf"
      },
      "source": [
        "def gradient_descent(X, y, alpha, itr, Layers):\n",
        "    J=[]\n",
        "    thetas,baises = init_param(Layers)\n",
        "    for i in range(itr):\n",
        "      output = forward_propogation(X,thetas,baises)\n",
        "      dt,db = backward_propagation(y, output, thetas, baises)\n",
        "      thetas,baises = update_param(thetas,baises,dt,db,alpha)\n",
        "      J.append(Cost(output[-1],y))\n",
        "      if i % 10000 == 0:\n",
        "        print(f\"iteration: {i}\")\n",
        "        print(f\"Cost Value: {J[-1]}\")\n",
        "    plt.plot(range(itr),J,'g-')\n",
        "    plt.grid(True)\n",
        "    plt.show(True)\n",
        "    \n",
        "    return thetas,baises"
      ],
      "execution_count": null,
      "outputs": []
    },
    {
      "cell_type": "code",
      "metadata": {
        "id": "ptKUmHIygGuj",
        "colab": {
          "base_uri": "https://localhost:8080/",
          "height": 615
        },
        "outputId": "db37d9df-83f3-484f-de24-f55aa522be06"
      },
      "source": [
        "X = np.array([[0,0],[0,1],[1,0],[1,1]])\n",
        "y = np.array([[1],[0],[0],[1]])\n",
        "\n",
        "thetas,baises = gradient_descent(X, y,alpha=0.5,itr=100000,Layers=[2,3,1])"
      ],
      "execution_count": null,
      "outputs": [
        {
          "output_type": "stream",
          "text": [
            "iteration: 0\n",
            "Cost Value: 1.1522121689838882\n",
            "iteration: 10000\n",
            "Cost Value: 0.044474999131574364\n",
            "iteration: 20000\n",
            "Cost Value: 0.0260564409294183\n",
            "iteration: 30000\n",
            "Cost Value: 0.01995605823099309\n",
            "iteration: 40000\n",
            "Cost Value: 0.016702509199772973\n",
            "iteration: 50000\n",
            "Cost Value: 0.014616133636648876\n",
            "iteration: 60000\n",
            "Cost Value: 0.013137562215807957\n",
            "iteration: 70000\n",
            "Cost Value: 0.012021509521447198\n",
            "iteration: 80000\n",
            "Cost Value: 0.011141636585874276\n",
            "iteration: 90000\n",
            "Cost Value: 0.010425520173262995\n"
          ],
          "name": "stdout"
        },
        {
          "output_type": "display_data",
          "data": {
            "image/png": "[encoded data removed]",
            "text/plain": [
              "<Figure size 432x288 with 1 Axes>"
            ]
          },
          "metadata": {
            "tags": [],
            "needs_background": "light"
          }
        }
      ]
    },
    {
      "cell_type": "markdown",
      "metadata": {
        "id": "OYwaKEtOn43N"
      },
      "source": [
        "## **DAY 4**"
      ]
    }
  ]
}