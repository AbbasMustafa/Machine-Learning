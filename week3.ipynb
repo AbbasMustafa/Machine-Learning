{
  "nbformat": 4,
  "nbformat_minor": 0,
  "metadata": {
    "colab": {
      "name": "week3.ipynb",
      "provenance": [],
      "collapsed_sections": [
        "I2_qQh0IRysU",
        "qeLgh0ecZ0Ie",
        "p3e_rXJjbcBQ",
        "vgOKNxQvgo6G"
      ]
    },
    "kernelspec": {
      "name": "python3",
      "display_name": "Python 3"
    }
  },
  "cells": [
    {
      "cell_type": "markdown",
      "metadata": {
        "id": "zxWkepsgRmIQ"
      },
      "source": [
        "# **Week 3**"
      ]
    },
    {
      "cell_type": "markdown",
      "metadata": {
        "id": "t-JuxEpqRwBd"
      },
      "source": [
        "## **Day 1**"
      ]
    },
    {
      "cell_type": "markdown",
      "metadata": {
        "id": "I2_qQh0IRysU"
      },
      "source": [
        "##### **Logistic Regression**"
      ]
    },
    {
      "cell_type": "markdown",
      "metadata": {
        "id": "Nrv-iFPCR3Pu"
      },
      "source": [
        "Now its time to classify Something, that's start with **loigistic regression**, don't be confuse with linear regression,  It is named as 'Logistic Regression', because it's underlying technique is quite the same as Linear Regression. The term **“Logistic”** is taken from the Logit function that is used in this method of classification."
      ]
    },
    {
      "cell_type": "markdown",
      "metadata": {
        "id": "qeLgh0ecZ0Ie"
      },
      "source": [
        "###### **Binary Classification**\n",
        "\n",
        "> Instead of our contnious output vector Just like in linear Regression (e.g Price of House), In Binary Classfication we have only two Values in $y$ vector which is either 0 or 1, that's why we called it binary classification. \\\\\n",
        "\n",
        "> $y\\in {\\{0,1\\}}$ \\\\\n",
        "\n",
        "Where 0 is usually taken as the **\"negative class\"** and 1 as the **\"positive class\"**, but you are free to assign any representation to it.\n"
      ]
    },
    {
      "cell_type": "markdown",
      "metadata": {
        "id": "p3e_rXJjbcBQ"
      },
      "source": [
        "###### **Classifcation through Linear Regression**\n",
        "\n",
        "First we have to find out why not linear regression is not sufficent for classification ?"
      ]
    },
    {
      "cell_type": "markdown",
      "metadata": {
        "id": "_4y6tdL1b3Y0"
      },
      "source": [
        "**Code**"
      ]
    },
    {
      "cell_type": "code",
      "metadata": {
        "id": "7x9ROHDXbxKd"
      },
      "source": [
        "import numpy as np\n",
        "import matplotlib.pyplot as plt\n",
        "\n",
        "X = np.array(range(6)).reshape(-1,1)\n",
        "y = np.array([[0],[0],[0],[1],[1],[1]])\n",
        "\n",
        "Xbais = np.insert(X,0,1,axis=1)\n",
        "theta = np.linalg.inv(Xbais.T.dot(Xbais)).dot(Xbais.T.dot(y)) # Using Normal Equation\n",
        "\n",
        "h = Xbais.dot(theta)"
      ],
      "execution_count": null,
      "outputs": []
    },
    {
      "cell_type": "markdown",
      "metadata": {
        "id": "H4JZNNHOeaKe"
      },
      "source": [
        "If $h_\\theta({x}) \\geq 0.5$ predict $y=1$ \\\\\n",
        "If $h_\\theta({x}) < 0.5$ predict $y=0$"
      ]
    },
    {
      "cell_type": "code",
      "metadata": {
        "colab": {
          "base_uri": "https://localhost:8080/"
        },
        "id": "c-MYE8RQRrS4",
        "outputId": "79d6d8c6-7f87-49ac-9dcb-51eb92b91da5"
      },
      "source": [
        "plt.plot(X,y,'bo')\n",
        "plt.plot(X,h,'g')\n",
        "plt.grid()\n",
        "plt.show()"
      ],
      "execution_count": null,
      "outputs": [
        {
          "output_type": "display_data",
          "data": {
            "image/png": "[encoded data removed]",
            "text/plain": [
              "<Figure size 432x288 with 1 Axes>"
            ]
          },
          "metadata": {
            "tags": [],
            "needs_background": "light"
          }
        }
      ]
    },
    {
      "cell_type": "markdown",
      "metadata": {
        "id": "MvOJkHSsfUZF"
      },
      "source": [
        "But when we add one more data, it's distrubed our Hypothesis and we can't make good hypothesis, In simple term this method doesn't work well because classification is not actually a linear function."
      ]
    },
    {
      "cell_type": "markdown",
      "metadata": {
        "id": "MCGwd6DpgYxj"
      },
      "source": [
        "**Code**"
      ]
    },
    {
      "cell_type": "code",
      "metadata": {
        "colab": {
          "base_uri": "https://localhost:8080/"
        },
        "id": "M-lLlufkdPqI",
        "outputId": "0fb990e2-9224-4d34-86a2-5209ce2bd9e5"
      },
      "source": [
        "X = np.array([[0],[1],[2],[3],[4],[5],[8]]).reshape(-1,1)\n",
        "y = np.array([[0],[0],[0],[1],[1],[1],[1]])\n",
        "\n",
        "Xbais = np.insert(X,0,1,axis=1)\n",
        "theta = np.linalg.inv(Xbais.T.dot(Xbais)).dot(Xbais.T.dot(y)) # Using Normal Equation\n",
        "h = Xbais.dot(theta)\n",
        "\n",
        "plt.plot(X,y,'bo')\n",
        "plt.plot(X,h,'g')\n",
        "plt.grid()\n",
        "plt.show()"
      ],
      "execution_count": null,
      "outputs": [
        {
          "output_type": "display_data",
          "data": {
            "image/png": "[encoded data removed]",
            "text/plain": [
              "<Figure size 432x288 with 1 Axes>"
            ]
          },
          "metadata": {
            "tags": [],
            "needs_background": "light"
          }
        }
      ]
    },
    {
      "cell_type": "markdown",
      "metadata": {
        "id": "Rvjtdm6EgdNw"
      },
      "source": [
        "That's why We need Logistic Regression for Classification"
      ]
    },
    {
      "cell_type": "markdown",
      "metadata": {
        "id": "vgOKNxQvgo6G"
      },
      "source": [
        "###### **Hypothesis Function**"
      ]
    },
    {
      "cell_type": "markdown",
      "metadata": {
        "id": "Di08vMqug9Ax"
      },
      "source": [
        "As we know that Logistic regression is an extremely efficient mechanism for calculating **probabilities** so our hypothesis functiuon must return values between 0 and 1. ($0 \\leq h_{\\theta}(x) \\leq 1$) \\\\\n",
        "\n",
        "$h_{\\theta}(x)=P(y=1|x;\\theta)$ \\\\\n",
        "> **\"Probability that y=1 given x parametrized by $\\theta$\"**\n",
        "\n",
        "Our new form uses the **\"Sigmoid Function\"**, also called the \"Logistic Function\": \\\\\n",
        "\n",
        "$h_{\\theta}$ will give us the probability that our output is 1. For example, $h_\\theta(x)=0.7$ gives us the probability of 70% that our output is 1 and 30% that our output is 0.\n",
        "\n",
        "> $h_{\\theta}(x) = g(X\\theta)$ \\\\\n",
        "\n",
        "> $z = X\\theta$ \\\\\n",
        "\n",
        "> $g(z) = \\frac{1}{1+\\exp(-z)}$"
      ]
    },
    {
      "cell_type": "markdown",
      "metadata": {
        "id": "8iXn4S_TjopV"
      },
      "source": [
        "###### **Code**"
      ]
    },
    {
      "cell_type": "code",
      "metadata": {
        "colab": {
          "base_uri": "https://localhost:8080/"
        },
        "id": "71t8hWTjgnyR",
        "outputId": "92675eed-6952-4b7f-ee60-589e4c19a3b9"
      },
      "source": [
        "def sigmoid(z):\n",
        "  return (1)/(1+np.exp(-z))\n",
        "\n",
        "def hyp_function(X, theta):\n",
        "  z = X.dot(theta)\n",
        "  return sigmoid(z),z\n",
        "\n",
        "def add_bais(X):\n",
        "  return np.insert(X,0,1,axis=1)\n",
        "\n",
        "X = np.array(range(-10,10)).reshape(-1,1)\n",
        "Xbais = add_bais(X)\n",
        "np.random.seed(1)\n",
        "theta = np.random.random((2,1))\n",
        "\n",
        "h,z = hyp_function(Xbais, theta)\n",
        "\n",
        "plt.plot(z,h,'g')\n",
        "plt.grid()\n",
        "plt.xlabel('z')\n",
        "plt.ylabel('g (z)')\n",
        "plt.show()"
      ],
      "execution_count": null,
      "outputs": [
        {
          "output_type": "display_data",
          "data": {
            "image/png": "[encoded data removed]",
            "text/plain": [
              "<Figure size 432x288 with 1 Axes>"
            ]
          },
          "metadata": {
            "tags": [],
            "needs_background": "light"
          }
        }
      ]
    },
    {
      "cell_type": "markdown",
      "metadata": {
        "id": "m_P9-f1dmAPA"
      },
      "source": [
        "**This is Sigmoid Function**\\\n",
        "\n",
        "If $h_\\theta({x}) \\geq 0.5$ predict $y=1$ \\\\\n",
        "If $h_\\theta({x}) < 0.5$ predict $y=0$\n",
        "\n",
        "If $z \\geq 0$ then $ g(z) \\geq 0.5 :\n",
        " y=1$  \\\\\n",
        "If $z < 0$ then $ g(z) < 0.5 : y=0$"
      ]
    },
    {
      "cell_type": "markdown",
      "metadata": {
        "id": "oF2OHpOGk73N"
      },
      "source": [
        "**Remeber**\n",
        "\n",
        "$z=0,e^0=1⇒g(z)=1/2 \\\\\n",
        "z→∞,e^{−∞}→0⇒g(z)=1 \\\\\n",
        "z→−∞,e^∞→∞⇒g(z)=0$"
      ]
    },
    {
      "cell_type": "markdown",
      "metadata": {
        "id": "_LJDOlb0yYZh"
      },
      "source": [
        "## **Day 2**"
      ]
    },
    {
      "cell_type": "markdown",
      "metadata": {
        "id": "HmRVTEGRke7h"
      },
      "source": [
        "##### **Decision Boundry**"
      ]
    },
    {
      "cell_type": "markdown",
      "metadata": {
        "id": "zJ0QcNjPkk0u"
      },
      "source": [
        "Decision Boundy is the line that sepearated from y=1 and y=0. \\\\\n",
        "$\\theta = \n",
        "\\begin{bmatrix}\n",
        "5 \\\\\n",
        "-1 \\\\\n",
        "0 \\\\\n",
        "\\end{bmatrix}\\\\\n",
        "$ //\n",
        "\n",
        "As we know that $X\\theta \\geq 0$ then $y=1$ so: \\\\\n",
        "\n",
        "$y=1$ if $-5+(-1)x_1+(0)x_2 \\geq 0$ \\\\\n",
        "$-5-x_1 \\geq 0$ \\\\\n",
        "$-x_1 \\geq -5$ \\\\\n",
        "$x_1 \\leq 5$ \\\\\n",
        "\n",
        "> In this case, our decision boundary is a straight vertical line placed on the graph where $x_1 = 5$, and everything to the left of that denotes $y = 1$, while everything to the right denotes $y = 0$.\n",
        "\n",
        "> **Note**, the input to the sigmoid function g(z) (e.g. $X\\theta$) doesn't need to be linear, and could be a function that describes a circle (e.g. $z = \\theta_0 + \\theta_1 x_1^2 +\\theta_2 x_2^2)$ or any shape to fit our data."
      ]
    },
    {
      "cell_type": "markdown",
      "metadata": {
        "id": "iKhtGXyxpi63"
      },
      "source": [
        "Examples:\n",
        "\n",
        "$\\theta =\n",
        "\\begin{bmatrix}\n",
        "-3 \\\\\n",
        "1 \\\\\n",
        "1 \\\\\n",
        "\\end{bmatrix}\n",
        "$ \\\\\n",
        "\n",
        "$y=1$ if $-3 + x_1 + x_2 \\geq 0$ \\\\\n",
        "$x_1+x_2 \\geq 3$\n",
        "\n",
        "> so $y=1$ if $x_1+x_2\\geq3$"
      ]
    },
    {
      "cell_type": "markdown",
      "metadata": {
        "id": "dDon6XPCAZeW"
      },
      "source": [
        "**Code**"
      ]
    },
    {
      "cell_type": "code",
      "metadata": {
        "colab": {
          "base_uri": "https://localhost:8080/",
          "height": 279
        },
        "id": "2q9dpsAdAcMR",
        "outputId": "96328621-0327-475f-d6e0-201e96bac16f"
      },
      "source": [
        "m = 100\n",
        "np.random.seed(10)\n",
        "X = np.random.uniform(-2, 2, (m,1))\n",
        "y = np.random.uniform(-2, 2, (m,1))\n",
        "theta = np.array([[0],[1],[1]])\n",
        "\n",
        "c = -theta[0]/theta[2]\n",
        "m = -theta[1]/theta[2]\n",
        "xmin, xmax = -2, 2\n",
        "ymin, ymax = -2, 2\n",
        "xd = np.array([xmin, xmax])\n",
        "yd = m*xd + c\n",
        "\n",
        "plt.plot(X,y,'bo')\n",
        "plt.plot(xd, yd, 'k', lw=1, ls='--')\n",
        "plt.fill_between(xd, yd, ymin, color='tab:blue', alpha=0.2)\n",
        "plt.fill_between(xd, yd, ymax, color='tab:orange', alpha=0.2)\n",
        "plt.xlabel('x1')\n",
        "plt.ylabel('x2')\n",
        "plt.grid()\n",
        "plt.show()"
      ],
      "execution_count": null,
      "outputs": [
        {
          "output_type": "display_data",
          "data": {
            "image/png": "[encoded data removed]",
            "text/plain": [
              "<Figure size 432x288 with 1 Axes>"
            ]
          },
          "metadata": {
            "tags": [],
            "needs_background": "light"
          }
        }
      ]
    },
    {
      "cell_type": "markdown",
      "metadata": {
        "id": "4fOBejQfxO5C"
      },
      "source": [
        "**Non linear Descion Boundary**\n",
        "\n",
        "$\n",
        "\\begin{bmatrix}\n",
        "-1 \\\\\n",
        "0 \\\\\n",
        "0 \\\\\n",
        "1 \\\\\n",
        "1 \\\\\n",
        "\\end{bmatrix}\n",
        "$ \\\\\n",
        "\n",
        "$y=1$ if $-1+(0)x_1+(0)x_2+(1)x_1^2+(1)x_2^2 \\geq 0$ \\\\\n",
        "$-1+x_1^2+x_2^2 \\geq 0$ \\\\\n",
        "$x_1^2+x_2^2 \\geq 1$ \\\\\n",
        "\n",
        "so $x_1^2+x_2^2 = 1$ is equation of cricle\n",
        "inside the circle y=0 and outside the circle y=1"
      ]
    },
    {
      "cell_type": "markdown",
      "metadata": {
        "id": "mZ1WM1aqyk5i"
      },
      "source": [
        "##### **Cost Function**"
      ]
    },
    {
      "cell_type": "markdown",
      "metadata": {
        "id": "BXe49d5_yp4-"
      },
      "source": [
        "In order to calculate cost function of logistic regression, we can't use cast function of linear regresion becuase the logistic regression will cause the output to bhe wavy, in other words it'll be **non-convex function**.\n",
        "\n",
        "**Cost Function for logistic regression**\n",
        "\n",
        "> $J(\\theta) = \\sum_{i=0}^{m}Cost(h_\\theta{(x^{(i)})},y^{(i)})$\n",
        "\n",
        "> $Cost(h_\\theta{(x^{(i)})},y^{(i)}) = -log(h_\\theta{(x)})$ -> (if $y=1$)\n",
        "\n",
        "> $Cost(h_\\theta{(x^{(i)})},y^{(i)}) = -log(1-h_\\theta{(x)})$ -> (if $y=0$)\n"
      ]
    },
    {
      "cell_type": "markdown",
      "metadata": {
        "id": "O1zFCgK-1TjR"
      },
      "source": [
        "> The more our hypothesis is off from y, the larger the cost function output. If our hypothesis is equal to y, then our cost is 0.\n",
        "\n",
        "> $Cost(h_\\theta{(x^{(i)})},y^{(i)}) = 0 $ if $h_\\theta{(x)} = y$ \n",
        "\n",
        "> $Cost(h_\\theta{(x^{(i)})},y^{(i)}) → ∞ $ if y = 0, $h_\\theta{(x)} → 1$\n",
        "\n",
        "> $Cost(h_\\theta{(x^{(i)})},y^{(i)}) → ∞ $ if y = 1, $h_\\theta{(x)} → 0$ "
      ]
    },
    {
      "cell_type": "markdown",
      "metadata": {
        "id": "BvnL_nlp2ybI"
      },
      "source": [
        "###### **Simplified Cost Function**"
      ]
    },
    {
      "cell_type": "markdown",
      "metadata": {
        "id": "LW7twxrE22jQ"
      },
      "source": [
        "No we have to add both conditions in to one, and compresse our Cost function.\n",
        "\n",
        "$Cost(h_\\theta{(x^{(i)})},y^{(i)}) = -(y*\\log(h(x)) + (1-y)*\\log(1-h(x)))$\n",
        "\n",
        "> Notice that when y is equal to 1, then the second term $(1-y)\\log(1-h_\\theta(x))$ will be zero and will not affect the result. If y is equal to 0, then the first term $y \\log(h_\\theta(x))$ will be zero and will not affect the result.\n",
        "\n",
        "**We can write entire Cost Function as follows:**\n",
        "\n",
        "> $J(\\theta) = -\\frac{1}{m}\\sum_{i=0}^{m}(y^{(i)}*\\log(h(x^{(i)})) + (1-y^{(i)})*\\log(1-h(x^{(i)})))$\n",
        "\n",
        "**Vectorize Implementation**\n",
        "\n",
        "> $J(θ)=-\\frac{1}{m}⋅(y^T\\log(h)+(1−y)^T\\log(1−h))$"
      ]
    },
    {
      "cell_type": "markdown",
      "metadata": {
        "id": "yirYOCkc6L2p"
      },
      "source": [
        "###### **Code**"
      ]
    },
    {
      "cell_type": "code",
      "metadata": {
        "id": "EgXUUFLoks68",
        "colab": {
          "base_uri": "https://localhost:8080/",
          "height": 366
        },
        "outputId": "7f7757a7-645d-40a7-bd4e-36e290944af5"
      },
      "source": [
        "X = np.array([[1],[2.5],[3],[4]])\n",
        "Xbais = add_bais(X)\n",
        "y = np.array([[0],[0],[1],[1]])\n",
        "theta = np.array([[-3.5],[1.3]])\n",
        "h,z = hyp_function(Xbais,theta)\n",
        "\n",
        "# Descision thresold >= 0.5 (h=1 or h=0)\n",
        "def descision_thresold(h):\n",
        "  h_changed = np.copy(h)\n",
        "  h_changed[h_changed >= 0.5] = 1\n",
        "  h_changed[h_changed < 0.5] = 0\n",
        "  return h_changed\n",
        "\n",
        "h_changed = descision_thresold(h)\n",
        "\n",
        "print(f\"Predict: thresold>=0.5\\n{h_changed}\")\n",
        "\n",
        "# Logistics Regession Cost Function\n",
        "def Cost_function(h,y):\n",
        "  return -(1/y.shape[0]) * (np.dot(y.T,np.log(h)) + np.dot((1-y).T,np.log(1-h)))\n",
        "\n",
        "J = Cost_function(h,y)\n",
        "\n",
        "print(f\"Cost: {J}\")\n",
        "\n",
        "# Descision boundry\n",
        "a = (-theta[0]/theta[1])\n",
        "yy = np.linspace(0, 1)\n",
        "xx =   a * np.ones((len(yy),1))\n",
        "\n",
        "plt.plot(X,y,'go')\n",
        "plt.plot(xx,yy,'b')\n",
        "plt.grid()\n",
        "plt.show()"
      ],
      "execution_count": null,
      "outputs": [
        {
          "output_type": "stream",
          "text": [
            "Predict: thresold>=0.5\n",
            "[[0.]\n",
            " [0.]\n",
            " [1.]\n",
            " [1.]]\n",
            "Cost: [[0.34045601]]\n"
          ],
          "name": "stdout"
        },
        {
          "output_type": "display_data",
          "data": {
            "image/png": "[encoded data removed]",
            "text/plain": [
              "<Figure size 432x288 with 1 Axes>"
            ]
          },
          "metadata": {
            "tags": [],
            "needs_background": "light"
          }
        }
      ]
    },
    {
      "cell_type": "markdown",
      "metadata": {
        "id": "rOoqWSzMPj1X"
      },
      "source": [
        "## **Day 3**"
      ]
    },
    {
      "cell_type": "markdown",
      "metadata": {
        "id": "YcNf8J24QaG2"
      },
      "source": [
        "##### **Gradient Descent**"
      ]
    },
    {
      "cell_type": "markdown",
      "metadata": {
        "id": "S8evgCSyQdbX"
      },
      "source": [
        "General Form Of Gradient Descent:\n",
        "\n",
        "> $ Repeat \\{ \\\\\n",
        "\\theta_{j} := \\theta_{j}-\\alpha \\frac{\\delta}{\\delta\\theta}J(\\theta) \\\\ \n",
        "\\}$\n",
        "\n",
        "Derivate Part Using Calculus:\n",
        "\n",
        "> $Repeat\\{ \\\\\n",
        "θ_j:=θ_j−\\frac{α}{m}∑_{i=1}^m(h_{θ}(x^{(i)})−y^{(i)})x^{(i)}_j \\\\\n",
        "\\}$\n",
        "\n",
        "A vectorize Implementation is:\n",
        "\n",
        "> $θ:=θ−\\frac{α}{m}X^T(g(Xθ)− y)$"
      ]
    },
    {
      "cell_type": "markdown",
      "metadata": {
        "id": "W_gIVdaFTZmH"
      },
      "source": [
        "###### **Code**"
      ]
    },
    {
      "cell_type": "code",
      "metadata": {
        "id": "p7TKtuy6PwLz"
      },
      "source": [
        "def Gradient_Descent(X, y, theta, alpha=0.01, itr=10,flag=True):\n",
        "  J_history = []\n",
        "  theta_values = []\n",
        "  counter = 0\n",
        "  while counter < itr:\n",
        "\n",
        "    h,_= hyp_function(Xbais,theta) # Hypothesis Function\n",
        "    J = Cost_function(h, y) # Cost  function\n",
        " \n",
        "    theta = theta - (alpha/y.shape[0]) * np.dot(X.T,(h - y)) # Vectorize Form  \n",
        "    \n",
        "    J_history.append(float(J)) # Save Cost History\n",
        "    counter +=1\n",
        " \n",
        "  # Plot Graph Cost Function Vs. Iteration\n",
        "  if flag:\n",
        "    plt.plot(range(len(J_history)),J_history,'r')\n",
        "    plt.xlabel('Iteration')\n",
        "    plt.ylabel('Cost')\n",
        "    plt.grid(True)\n",
        "    plt.show(True)\n",
        "\n",
        "  return theta, J_history"
      ],
      "execution_count": null,
      "outputs": []
    },
    {
      "cell_type": "code",
      "metadata": {
        "colab": {
          "base_uri": "https://localhost:8080/",
          "height": 779
        },
        "id": "bJ66HScPV7l1",
        "outputId": "95290281-fd6c-484a-d259-c26b4fb03dc8"
      },
      "source": [
        "X = np.array([[1],[2.5],[3],[4]])\n",
        "Xbais = add_bais(X)\n",
        "y = np.array([[0],[0],[1],[1]])\n",
        "theta = np.random.random((Xbais.shape[1],1))\n",
        "\n",
        "itr = 99999\n",
        "alpha = 0.8\n",
        "theta, J_history = Gradient_Descent(Xbais, y, theta, alpha, itr)\n",
        "print(f\"Cost: {J_history[-1]} \\ntheta:\\n{theta}\\n\\n\")\n",
        "h,_= hyp_function(Xbais,theta)\n",
        "h_changed = descision_thresold(h)\n",
        "print(f\"h: {h}\\n\\n h_changed: {h_changed}\")\n",
        "\n",
        "# Descision boundry\n",
        "a = (-theta[0]/theta[1])\n",
        "yy = np.linspace(0, 1)\n",
        "xx =   a * np.ones((len(yy),1))\n",
        "\n",
        "plt.plot(X,y,'go')\n",
        "plt.plot(xx,yy,'b')\n",
        "plt.grid()\n",
        "plt.show()"
      ],
      "execution_count": null,
      "outputs": [
        {
          "output_type": "display_data",
          "data": {
            "image/png": "[encoded data removed]",
            "text/plain": [
              "<Figure size 432x288 with 1 Axes>"
            ]
          },
          "metadata": {
            "tags": [],
            "needs_background": "light"
          }
        },
        {
          "output_type": "stream",
          "text": [
            "Cost: 0.0017308844266695819 \n",
            "theta:\n",
            "[[-62.26174877]\n",
            " [ 22.66999732]]\n",
            "\n",
            "\n",
            "h: [[6.39029362e-18]\n",
            " [3.73317709e-03]\n",
            " [9.96821756e-01]\n",
            " [1.00000000e+00]]\n",
            "\n",
            " h_changed: [[0.]\n",
            " [0.]\n",
            " [1.]\n",
            " [1.]]\n"
          ],
          "name": "stdout"
        },
        {
          "output_type": "display_data",
          "data": {
            "image/png": "[encoded data removed]",
            "text/plain": [
              "<Figure size 432x288 with 1 Axes>"
            ]
          },
          "metadata": {
            "tags": [],
            "needs_background": "light"
          }
        }
      ]
    },
    {
      "cell_type": "code",
      "metadata": {
        "colab": {
          "base_uri": "https://localhost:8080/",
          "height": 810
        },
        "id": "PKKRpnRdZaMI",
        "outputId": "08f118c5-85f7-4235-ec62-f88f764be61c"
      },
      "source": [
        "# And Logic\n",
        "#1 1 = 1\n",
        "#0 1 = 0\n",
        "#1 0 = 0\n",
        "#0 0 = 0\n",
        "\n",
        "X = np.array([[1,1],[1,0],[0,1],[0,0]])\n",
        "Xbais = add_bais(X)\n",
        "y = np.array([[1],[0],[0],[0]])\n",
        "theta = np.random.random((Xbais.shape[1],1))\n",
        "\n",
        "itr = 99999\n",
        "alpha = 0.8\n",
        "theta, J_history = Gradient_Descent(Xbais, y, theta, alpha, itr)\n",
        "print(f\"Cost: {J_history[-1]} \\ntheta:\\n{theta}\\n\\n\")\n",
        "h,_= hyp_function(Xbais,theta)\n",
        "h_changed = descision_thresold(h)\n",
        "print(f\"h: {h}\\n\\n h_changed: {h_changed}\")\n",
        "\n",
        "# Descision boundry\n",
        "c = -theta[0]/theta[2]\n",
        "m = -theta[1]/theta[2]\n",
        "xmin, xmax = -0.5, 2\n",
        "ymin, ymax = -0.5, 2\n",
        "xd = np.array([xmin, xmax])\n",
        "yd = m*xd + c\n",
        "\n",
        "plt.plot(X[:,0],X[:,1],'go')\n",
        "plt.plot(xd,yd,'b')\n",
        "plt.fill_between(xd, yd, ymin, color='tab:blue', alpha=0.2)\n",
        "plt.fill_between(xd, yd, ymax, color='tab:orange', alpha=0.2)\n",
        "plt.xlabel('x1')\n",
        "plt.ylabel('x2')\n",
        "plt.grid()\n",
        "plt.show()\n"
      ],
      "execution_count": null,
      "outputs": [
        {
          "output_type": "display_data",
          "data": {
            "image/png": "[encoded data removed]",
            "text/plain": [
              "<Figure size 432x288 with 1 Axes>"
            ]
          },
          "metadata": {
            "tags": [],
            "needs_background": "light"
          }
        },
        {
          "output_type": "stream",
          "text": [
            "Cost: 0.0002128283565258167 \n",
            "theta:\n",
            "[[-24.54066158]\n",
            " [ 16.24824926]\n",
            " [ 16.24824926]]\n",
            "\n",
            "\n",
            "h: [[9.99649513e-01]\n",
            " [2.50346976e-04]\n",
            " [2.50346976e-04]\n",
            " [2.19849810e-11]]\n",
            "\n",
            " h_changed: [[1.]\n",
            " [0.]\n",
            " [0.]\n",
            " [0.]]\n"
          ],
          "name": "stdout"
        },
        {
          "output_type": "display_data",
          "data": {
            "image/png": "[encoded data removed]",
            "text/plain": [
              "<Figure size 432x288 with 1 Axes>"
            ]
          },
          "metadata": {
            "tags": [],
            "needs_background": "light"
          }
        }
      ]
    },
    {
      "cell_type": "code",
      "metadata": {
        "colab": {
          "base_uri": "https://localhost:8080/",
          "height": 810
        },
        "id": "WnwGbM0Ve7ha",
        "outputId": "f23a4543-5775-438c-9ad9-dbdfefc0c266"
      },
      "source": [
        "# Or Logic\n",
        "#1 1 = 1\n",
        "#0 1 = 1\n",
        "#1 0 = 1\n",
        "#0 0 = 0\n",
        "\n",
        "X = np.array([[1,1],[1,0],[0,1],[0,0]])\n",
        "Xbais = add_bais(X)\n",
        "y = np.array([[1],[1],[1],[0]])\n",
        "theta = np.random.random((Xbais.shape[1],1))\n",
        "\n",
        "itr = 99999\n",
        "alpha = 0.8\n",
        "theta, J_history = Gradient_Descent(Xbais, y, theta, alpha, itr)\n",
        "print(f\"Cost: {J_history[-1]} \\ntheta:\\n{theta}\\n\\n\")\n",
        "h,_= hyp_function(Xbais,theta)\n",
        "h_changed = descision_thresold(h)\n",
        "print(f\"h: {h}\\n\\n h_changed: {h_changed}\")\n",
        "\n",
        "# Descision boundry\n",
        "c = -theta[0]/theta[2]\n",
        "m = -theta[1]/theta[2]\n",
        "xmin, xmax = -0.5, 1.5\n",
        "ymin, ymax = -1, 2\n",
        "xd = np.array([xmin, xmax])\n",
        "yd = m*xd + c\n",
        "\n",
        "plt.plot(X[:,0],X[:,1],'go')\n",
        "plt.plot(xd,yd,'b')\n",
        "plt.fill_between(xd, yd, ymin, color='tab:blue', alpha=0.2)\n",
        "plt.fill_between(xd, yd, ymax, color='tab:orange', alpha=0.2)\n",
        "plt.xlabel('x1')\n",
        "plt.ylabel('x2')\n",
        "plt.grid()\n",
        "plt.show()\n"
      ],
      "execution_count": null,
      "outputs": [
        {
          "output_type": "display_data",
          "data": {
            "image/png": "[encoded data removed]",
            "text/plain": [
              "<Figure size 432x288 with 1 Axes>"
            ]
          },
          "metadata": {
            "tags": [],
            "needs_background": "light"
          }
        },
        {
          "output_type": "stream",
          "text": [
            "Cost: 0.00011262622320331082 \n",
            "theta:\n",
            "[[-8.29277236]\n",
            " [17.50200234]\n",
            " [17.50200233]]\n",
            "\n",
            "\n",
            "h: [[1.00000000e+00]\n",
            " [9.99899899e-01]\n",
            " [9.99899899e-01]\n",
            " [2.50256881e-04]]\n",
            "\n",
            " h_changed: [[1.]\n",
            " [1.]\n",
            " [1.]\n",
            " [0.]]\n"
          ],
          "name": "stdout"
        },
        {
          "output_type": "display_data",
          "data": {
            "image/png": "[encoded data removed]",
            "text/plain": [
              "<Figure size 432x288 with 1 Axes>"
            ]
          },
          "metadata": {
            "tags": [],
            "needs_background": "light"
          }
        }
      ]
    },
    {
      "cell_type": "code",
      "metadata": {
        "colab": {
          "base_uri": "https://localhost:8080/",
          "height": 877
        },
        "id": "Qq6bs99Mi3yD",
        "outputId": "5f800ddb-f1d3-4c1b-bc09-474e45bc8aef"
      },
      "source": [
        "# Xor Logic\n",
        "#1 1 = 0\n",
        "#0 1 = 1\n",
        "#1 0 = 1\n",
        "#0 0 = 0\n",
        "\n",
        "X = np.array([[0,0],[0,1],[1,0],[1,1]])\n",
        "Xbais = add_bais(X)\n",
        "print(Xbais)\n",
        "y = np.array([[0],[1],[1],[0]])\n",
        "theta = np.random.random((Xbais.shape[1],1))\n",
        "\n",
        "itr = 99999\n",
        "alpha = 0.8\n",
        "theta, J_history = Gradient_Descent(Xbais, y, theta, alpha, itr)\n",
        "print(f\"Cost: {J_history[-1]} \\ntheta:\\n{theta}\\n\\n\")\n",
        "h,_= hyp_function(Xbais,theta)\n",
        "h_changed = descision_thresold(h)\n",
        "print(f\"h: {h}\\n\\n h_changed: {h_changed}\")\n",
        "\n",
        "# Descision boundry\n",
        "c = -theta[0]/theta[2]\n",
        "m = -theta[1]/theta[2]\n",
        "xmin, xmax = -0.5, 1.5\n",
        "ymin, ymax = -1, 2\n",
        "xd = np.array([xmin, xmax])\n",
        "yd = m*xd + c\n",
        "\n",
        "plt.plot(X[:,0],X[:,1],'go')\n",
        "plt.plot(xd,yd,'b')\n",
        "plt.fill_between(xd, yd, ymin, color='tab:blue', alpha=0.2)\n",
        "plt.fill_between(xd, yd, ymax, color='tab:orange', alpha=0.2)\n",
        "plt.xlabel('x1')\n",
        "plt.ylabel('x2')\n",
        "plt.grid()\n",
        "plt.show()\n"
      ],
      "execution_count": null,
      "outputs": [
        {
          "output_type": "stream",
          "text": [
            "[[1 0 0]\n",
            " [1 0 1]\n",
            " [1 1 0]\n",
            " [1 1 1]]\n"
          ],
          "name": "stdout"
        },
        {
          "output_type": "display_data",
          "data": {
            "image/png": "[encoded data removed]",
            "text/plain": [
              "<Figure size 432x288 with 1 Axes>"
            ]
          },
          "metadata": {
            "tags": [],
            "needs_background": "light"
          }
        },
        {
          "output_type": "stream",
          "text": [
            "Cost: 0.6931471805599453 \n",
            "theta:\n",
            "[[-3.25866769e-16]\n",
            " [ 2.24657758e-16]\n",
            " [ 2.27867066e-16]]\n",
            "\n",
            "\n",
            "h: [[0.5]\n",
            " [0.5]\n",
            " [0.5]\n",
            " [0.5]]\n",
            "\n",
            " h_changed: [[1.]\n",
            " [1.]\n",
            " [1.]\n",
            " [1.]]\n"
          ],
          "name": "stdout"
        },
        {
          "output_type": "display_data",
          "data": {
            "image/png": "[encoded data removed]",
            "text/plain": [
              "<Figure size 432x288 with 1 Axes>"
            ]
          },
          "metadata": {
            "tags": [],
            "needs_background": "light"
          }
        }
      ]
    },
    {
      "cell_type": "markdown",
      "metadata": {
        "id": "HJCWThgt13h5"
      },
      "source": [
        "Above Prediction is not correct becuase Or model doesn't fit this type of problem cause this problem need non-linear hypothesis but we use linear straighn line for this."
      ]
    },
    {
      "cell_type": "markdown",
      "metadata": {
        "id": "uxTl7iQXmwdX"
      },
      "source": [
        "## **Day 4**"
      ]
    },
    {
      "cell_type": "markdown",
      "metadata": {
        "id": "LBPkD2MxmngM"
      },
      "source": [
        "##### **Multiclass Classification: One Vs All**"
      ]
    },
    {
      "cell_type": "markdown",
      "metadata": {
        "id": "KRhSBsWQnO52"
      },
      "source": [
        "In binary Class classification We had $y=\\{0,1\\}$, But now we have to classfiy more than two class $y=\\{0,1,\\dots,n\\}$\n",
        "\n",
        ">$y∈\\{0,1...n\\}$\n",
        "\n",
        ">$h^{(0)}_θ(x)=P(y=0|x;θ)$\n",
        "\n",
        ">$h^{(1)}_θ(x)=P(y=1|x;θ)$\n",
        "\n",
        "> $\\dots $\n",
        "\n",
        ">$h^{(n)}_θ(x)=P(y=n|x;θ)$\n",
        "\n",
        ">$prediction=maxi(h(i)θ(x))$\n",
        "\n",
        "We are basically choosing one class and then lumping all the others into a single second class. We do this repeatedly, applying binary logistic regression to each case, and then use the hypothesis that returned the highest value as our prediction."
      ]
    },
    {
      "cell_type": "markdown",
      "metadata": {
        "id": "oVi4xc3RpLNJ"
      },
      "source": [
        "###### **Code**"
      ]
    },
    {
      "cell_type": "code",
      "metadata": {
        "id": "QtuzEkA21mPn",
        "colab": {
          "base_uri": "https://localhost:8080/",
          "height": 279
        },
        "outputId": "96d861ec-c6c1-49af-9d24-592d9055af5e"
      },
      "source": [
        "# Multiclass classfication\n",
        "#1 1 = 0\n",
        "#0 1 = 1\n",
        "#1 0 = 2\n",
        "#0 0 = 1\n",
        "\n",
        "X = np.array([[1,1],[1,0],[0,1],[0,0]])\n",
        "Xbais = add_bais(X)\n",
        "\n",
        "# Multi Class Classification\n",
        "y = np.array([[0],[1],[2],[1]])\n",
        "theta = np.random.random((Xbais.shape[1],1))\n",
        "\n",
        "# Points\n",
        "size=15\n",
        "plt.plot(X[0][0],X[0][1],'s', markersize=size)\n",
        "plt.plot(X[1][0],X[1][1],'r^', markersize=size)\n",
        "plt.plot(X[2][0],X[2][1],'*', markersize=size)\n",
        "\n",
        "# Unseen Value\n",
        "plt.plot(0.25,0.5,'x', markersize=size)\n",
        "\n",
        "plt.plot(X[3][0],X[3][1],'r^', markersize=size)\n",
        "\n",
        "\n",
        "# Now wee need to convert c Class into \"1\" and other into zero\n",
        "# And repeat this process untill all class \n",
        "\n",
        "theta_i = []\n",
        "itr = 50\n",
        "alpha = 0.8\n",
        "\n",
        "for c in range(1,np.max(y+2)):\n",
        "  y_change = np.copy(y+1)\n",
        "  y_change[y_change!=c] = 0\n",
        "  y_change[y_change==c] = 1\n",
        "  flag = False\n",
        "  theta, J_history = Gradient_Descent(Xbais, y_change, theta, alpha, itr,flag)\n",
        "\n",
        "  h,_= hyp_function(Xbais,theta)\n",
        "  theta_i.append(theta[:,0])\n",
        "\n",
        "\n",
        "\n",
        "  # Descision boundry\n",
        "  const = -theta[0]/theta[2]\n",
        "  m = -theta[1]/theta[2]\n",
        "  xmin, xmax = -0.5, 1.5\n",
        "  ymin, ymax = -1, 2\n",
        "  xd = np.array([xmin, xmax])\n",
        "  yd = m*xd + const\n",
        "\n",
        "  plt.plot(xd,yd,lw=2, ls='--')\n",
        "\n",
        "plt.xlabel('x1')\n",
        "plt.ylabel('x2')\n",
        "plt.legend(['0','1','2','unseen Value'])\n",
        "plt.grid()\n",
        "plt.show()"
      ],
      "execution_count": null,
      "outputs": [
        {
          "output_type": "display_data",
          "data": {
            "image/png": "[encoded data removed]",
            "text/plain": [
              "<Figure size 432x288 with 1 Axes>"
            ]
          },
          "metadata": {
            "tags": [],
            "needs_background": "light"
          }
        }
      ]
    },
    {
      "cell_type": "markdown",
      "metadata": {
        "id": "I7nLp6YJhLNP"
      },
      "source": [
        "###### **Unseen Value**"
      ]
    },
    {
      "cell_type": "markdown",
      "metadata": {
        "id": "PhHNrVTehPsU"
      },
      "source": [
        "On a new input $x$, to maek a prediction, pick the class $i$ that maximize $h^{(i)}_\\theta(x)$"
      ]
    },
    {
      "cell_type": "code",
      "metadata": {
        "id": "FP2ZK7iQZIR-",
        "colab": {
          "base_uri": "https://localhost:8080/"
        },
        "outputId": "99d9077e-43d2-4808-9e88-a77720428696"
      },
      "source": [
        "# Unseen Values\n",
        "X_new = np.array([[1,0.25,0.5]])\n",
        "\n",
        "# K classes Theta\n",
        "theta_array = np.array(theta_i).T\n",
        "\n",
        "# hypothesis on K thetas\n",
        "h,_ = hyp_function(X_new,theta_array)\n",
        "\n",
        "# Return class which new data belongs\n",
        "print(f\"Predicted Class: {np.argmax(h)}\")\n",
        "h"
      ],
      "execution_count": null,
      "outputs": [
        {
          "output_type": "stream",
          "text": [
            "Predicted Class: 1\n"
          ],
          "name": "stdout"
        },
        {
          "output_type": "execute_result",
          "data": {
            "text/plain": [
              "array([[0.16298909, 0.36231878, 0.31746223]])"
            ]
          },
          "metadata": {
            "tags": []
          },
          "execution_count": 143
        }
      ]
    },
    {
      "cell_type": "markdown",
      "metadata": {
        "id": "6qE5kJpprzuJ"
      },
      "source": [
        "## **Day 5**"
      ]
    },
    {
      "cell_type": "markdown",
      "metadata": {
        "id": "UE6EIPnrmrSq"
      },
      "source": [
        "##### **Regularization**"
      ]
    },
    {
      "cell_type": "markdown",
      "metadata": {
        "id": "1T7mSPI67mC4"
      },
      "source": [
        "###### **High bias / underfitting**"
      ]
    },
    {
      "cell_type": "markdown",
      "metadata": {
        "id": "XPZV2n4z9aGI"
      },
      "source": [
        "High bias or underfitting is when the form of our hypothesis function h maps poorly to the trend of the data. **It is usually caused by a function that is too simple or uses too few features.**\n",
        "\n",
        "**Example** if we take ($h_\\theta(x) = \\theta_0 + \\theta_1*x$) then we are making an initial assumption that a linear model will fit the training data well and will be able to generalize but that may not be the case."
      ]
    },
    {
      "cell_type": "code",
      "metadata": {
        "colab": {
          "base_uri": "https://localhost:8080/",
          "height": 268
        },
        "id": "uUyujBsj7r3m",
        "outputId": "6f57c069-f5dc-4194-ea0d-248974d71a43"
      },
      "source": [
        "X = np.array(range(50)).reshape(-1,1)\n",
        "Y = np.array(np.power(range(50),2)).reshape(-1,1)\n",
        "theta = np.array([[0],[40]])\n",
        "Xbais = add_bais(X)\n",
        "plt.plot(X,Y,'go')\n",
        "plt.plot(X,Xbais.dot(theta),'b')\n",
        "plt.grid()\n",
        "plt.show()"
      ],
      "execution_count": null,
      "outputs": [
        {
          "output_type": "display_data",
          "data": {
            "image/png": "[encoded data removed]",
            "text/plain": [
              "<Figure size 432x288 with 1 Axes>"
            ]
          },
          "metadata": {
            "tags": [],
            "needs_background": "light"
          }
        }
      ]
    },
    {
      "cell_type": "markdown",
      "metadata": {
        "id": "J9NzWhSfApsJ"
      },
      "source": [
        "###### **overfitting / high variance**"
      ]
    },
    {
      "cell_type": "markdown",
      "metadata": {
        "id": "79GMREDpA5P_"
      },
      "source": [
        "overfitting or high variance is caused by a hypothesis function that fits the available data but does not generalize well to predict new data. **It is usually caused by a complicated function that creates a lot of unnecessary curves and angles unrelated to the data.**"
      ]
    },
    {
      "cell_type": "code",
      "metadata": {
        "colab": {
          "base_uri": "https://localhost:8080/",
          "height": 268
        },
        "id": "_AlJCaiA8trD",
        "outputId": "1d9b5ae9-52a6-472c-b591-6c8c7a2b1b97"
      },
      "source": [
        "X = np.array(range(50)).reshape(-1,1)\n",
        "X = np.insert(X,1,(np.power(X,2).T),axis=1)\n",
        "Y = np.array(np.power(range(50),2)).reshape(-1,1)\n",
        "theta = np.array([[0],[0],[1]])\n",
        "Xbais = add_bais(X)\n",
        "plt.plot(X[:,0],Y,'go')\n",
        "plt.plot(X[:,0],Xbais.dot(theta),'b')\n",
        "plt.grid()\n",
        "plt.show()"
      ],
      "execution_count": null,
      "outputs": [
        {
          "output_type": "display_data",
          "data": {
            "image/png": "[encoded data removed]",
            "text/plain": [
              "<Figure size 432x288 with 1 Axes>"
            ]
          },
          "metadata": {
            "tags": [],
            "needs_background": "light"
          }
        }
      ]
    },
    {
      "cell_type": "markdown",
      "metadata": {
        "id": "qRpYaMHaCyCj"
      },
      "source": [
        "**There are two main options to address the issue of overfitting**\n",
        "\n",
        "1. Reduce the Numbers of Feature\n",
        "2. Regularization\n",
        "\n",
        "**Note**: We can manually raduce features or use a model selection algorithm. Regularization works well when we have lots of slightly usefull features. "
      ]
    },
    {
      "cell_type": "markdown",
      "metadata": {
        "id": "1Oe1VU9BESiL"
      },
      "source": [
        "###### **Regularized Cost Function**"
      ]
    },
    {
      "cell_type": "markdown",
      "metadata": {
        "id": "jSqW4tKqEasn"
      },
      "source": [
        "Small value for paramete $ \\theta_1 \\theta_2 \\dots \\theta_n$ **Note** exclude $\\theta_0$ \n",
        "1. Simpler hypothesis\n",
        "2. Less prone to overfitting\n",
        "\n",
        "If we have overfitting from our hypothesis function, we can reduce the weight that some of the terms in our function carry by increasing their cost.\n",
        "\n",
        "**Say we wanted to make the following function more quadratic**:\n",
        "\n",
        "$h_\\theta(x) = \\theta_0+\\theta_1x+\\theta_2x^2+\\theta_3x^3+\\theta_4x^4$\n",
        "\n",
        "We need to tweek/pinalize some values of $\\theta_3 \\theta_4$ Without actually getting rid of these features or changing the form of our hypothesis, we can instead modify our **cost function**:\n",
        "\n",
        "$\\frac{1}{2m}\\sum_{i=0}^{m}(h_\\theta(x^{(i)})-y^{(i)})^2+100⋅\\theta^2_3 +100⋅\\theta^2_4 $\n",
        "\n",
        "We've added two extra terms at the end to inflate the cost of $\\theta_3$ and $\\theta_4$ Now, in order for the cost function to get close to zero, we will have to reduce the values of $\\theta_3$ and $\\theta_4$ to near zero. This will in turn greatly reduce the values of $\\theta_3x^3$ and $\\theta_4x^4$ in our hypothesis function.\n",
        "\n",
        "We could also regularize all of our theta parameters in a single summation:\n",
        "\n",
        "$ min_\\theta \\frac{1}{2m} [\\sum_{i=1}^m (h_\\theta(x^{(i)}) - y^{(i)})^2 + \\lambda \\sum_{j=1}^n \\theta_j^2]$\n",
        "\n",
        "The λ, or lambda, is the regularization parameter. It determines how much the costs of our theta parameters are inflated. You can visualize the effect of regularization in this interactive plot : https://www.desmos.com/calculator/1hexc8ntqp \n",
        "\n",
        "if λ to large -> **Underfitting** \\\\\n",
        "if λ = 0 or to small -> **Without Regulatization** "
      ]
    },
    {
      "cell_type": "markdown",
      "metadata": {
        "id": "DHeBVdcHWCO6"
      },
      "source": [
        "###### **Code**"
      ]
    },
    {
      "cell_type": "code",
      "metadata": {
        "id": "ZfldO-hGWGES"
      },
      "source": [
        "# Regularized Cost Function\n",
        "def Cost_function(h,y,theta,lambda_value):\n",
        "  error = h-y\n",
        "  sum_sqr_error = np.dot(error.T,error)  # This is method to square and summation\n",
        "  J = 1/(2*m) *(sum_sqr_error + lambda_value*np.dot(theta[1:,:].T,theta[1:,:]))\n",
        "  return J"
      ],
      "execution_count": null,
      "outputs": []
    },
    {
      "cell_type": "markdown",
      "metadata": {
        "id": "drgWCsZhK7wM"
      },
      "source": [
        "##### **Regularized Linear Regression**"
      ]
    },
    {
      "cell_type": "markdown",
      "metadata": {
        "id": "xVak0lF0LFAq"
      },
      "source": [
        "We will modify our gradient descent function to separate out $\\theta_0$ from the rest of the parameters because we do not want to penalize $\\theta_0$\n",
        "\n",
        "$\n",
        "Repeat \\{\\\\\n",
        "\\theta_0 = \\theta_0 - \\frac{\\alpha}{m}*\\sum_{i=1}^{m}(h_\\theta(x^{(i)}-y^{(i)})x_0^i \\\\\n",
        "\\theta_j = \\theta_j - \\frac{\\alpha}{m}*\\sum_{i=1}^{m}(h_\\theta(x^{(i)}-y^{(i)})x_j^i + \\frac{\\lambda}{m}\\theta_j \\\\\n",
        "\\}\n",
        "$.\n",
        "\n",
        "WE can maulpulate our cost function just like it:\n",
        "\n",
        "$\\theta_j = \\theta_j(1-\\alpha\\frac{\\lambda}{m}) - \\frac{\\alpha}{m}*\\sum_{i=1}^{m}(h_\\theta(x^{(i)}-y^{(i)})x_j^i $\n",
        "\n",
        "The first term in the above equation, $1 - \\alpha\\frac{\\lambda}{m}$ will always be less than 1. Intuitively you can see it as reducing the value of $\\theta_j$ some amount on every update.\n",
        "\n",
        "Notice that the second term is now exactly the same as it was before.\n",
        "​\t\n",
        " ."
      ]
    },
    {
      "cell_type": "markdown",
      "metadata": {
        "id": "YhxKc2HLO7ZD"
      },
      "source": [
        "###### **Code**"
      ]
    },
    {
      "cell_type": "code",
      "metadata": {
        "colab": {
          "base_uri": "https://localhost:8080/",
          "height": 380
        },
        "id": "0_EXzZj-CK-d",
        "outputId": "2a17f5a6-d927-46c7-df46-35234eb2a7c5"
      },
      "source": [
        "# Gradient Descent With regularization\n",
        "\n",
        "def Gradient_Descent_regularization(X, y, theta, alpha=0.01, itr=10, lambda_value=0.2 ,flag=True):\n",
        "  J_history = []\n",
        "  theta_values = []\n",
        "  counter = 0\n",
        "  while counter < itr:\n",
        "\n",
        "    h = hyp_function(Xbais,theta) # Hypothesis Function\n",
        "    J = Cost_function(h, y,theta, lambda_value) # Cost  function\n",
        " \n",
        "    theta[0] = theta[0] - (alpha/y.shape[0]) * np.sum((h - y))\n",
        "    # Regulzarized Form\n",
        "    theta[1:,:] = theta[1:,:]*(1-alpha*(lambda_value/y.shape[0])) - (alpha/y.shape[0]) * np.dot(X[:,1:].T,(h - y)) # Vectorize Form  \n",
        "    \n",
        "    J_history.append(float(J)) # Save Cost History\n",
        "    counter +=1\n",
        " \n",
        "  # Plot Graph Cost Function Vs. Iteration\n",
        "  if flag:\n",
        "    plt.plot(range(len(J_history)),J_history,'r')\n",
        "    plt.xlabel('Iteration')\n",
        "    plt.ylabel('Cost')\n",
        "    plt.grid(True)\n",
        "    plt.show(True)\n",
        "\n",
        "  return theta, J_history\n",
        "\n",
        "def hyp_function(X, theta):\n",
        "  return X.dot(theta)\n",
        "\n",
        "def multiple_data_generate(m):\n",
        "\n",
        "  np.random.seed(42)\n",
        "  X = np.array(range(1,m+1)).reshape(-1,1) # m*n Matrix generated\n",
        "  X = np.insert(X,1,np.power(X[:,0],2).T,axis=1)\n",
        "  X = np.insert(X,2,np.power(X[:,0],3).T,axis=1)\n",
        "\n",
        "\n",
        "  y = np.power(range(1,m+1),2).reshape(-1,1)\n",
        "  theta = np.random.random((X.shape[1]+1,1)) \n",
        "  return X,y,theta\n",
        "\n",
        "# Standarization\n",
        "def Standarization(X):\n",
        "  Xarray = []\n",
        "  sigma = []\n",
        "  mu = []\n",
        "  for i in range(X.shape[1]):\n",
        "    mu.append(np.min(X[:,i]))\n",
        "    sigma.append(np.std(X[:,i]))\n",
        "    Xarray.append((X[:,i]-mu[i])/(sigma[i]))\n",
        "  return np.array(Xarray).T,mu,sigma\n",
        "\n",
        "def Normalization(X):\n",
        "  Xarray = []\n",
        "  sigma = []\n",
        "  mu = []\n",
        "  for i in range(X.shape[1]):\n",
        "    mu.append(np.min(X[:,i]))\n",
        "    sigma.append(np.max(X[:,i] )-np.min(X[:,i]))\n",
        "    Xarray.append((X[:,i]-mu[i])/(sigma[i]))\n",
        "  return np.array(Xarray).T,mu,sigma\n",
        "\n",
        "\n",
        "\n",
        "m=50\n",
        "n=3\n",
        "X,y,theta = multiple_data_generate(m) # Generate Data (m=examples,n=features)\n",
        "X,_,_ = Normalization(X) \n",
        "Xbais = np.insert(X,0,1,axis=1)\n",
        "\n",
        "itr = 99999\n",
        "alpha= 0.6\n",
        "lambda_value = 5\n",
        "theta, J_history= Gradient_Descent_regularization(Xbais, y, theta, alpha, itr,lambda_value)\n",
        "print(f\"Cost: {J_history[-1]} \\ntheta:\\n{theta}\")"
      ],
      "execution_count": null,
      "outputs": [
        {
          "output_type": "display_data",
          "data": {
            "image/png": "[encoded data removed]",
            "text/plain": [
              "<Figure size 432x288 with 1 Axes>"
            ]
          },
          "metadata": {
            "tags": [],
            "needs_background": "light"
          }
        },
        {
          "output_type": "stream",
          "text": [
            "Cost: 80942.26816943272 \n",
            "theta:\n",
            "[[176.323181  ]\n",
            " [597.63304143]\n",
            " [647.79726426]\n",
            " [619.30253402]]\n"
          ],
          "name": "stdout"
        }
      ]
    },
    {
      "cell_type": "code",
      "metadata": {
        "id": "epaUT0oVTAFm",
        "colab": {
          "base_uri": "https://localhost:8080/",
          "height": 265
        },
        "outputId": "b0f06a6a-4ee6-450c-8d18-ffdd8574cfef"
      },
      "source": [
        "plt.plot(X[:,0],y,'go')\n",
        "plt.plot(X[:,0],Xbais.dot(theta))\n",
        "plt.grid()\n",
        "plt.show()"
      ],
      "execution_count": null,
      "outputs": [
        {
          "output_type": "display_data",
          "data": {
            "image/png": "[encoded data removed]",
            "text/plain": [
              "<Figure size 432x288 with 1 Axes>"
            ]
          },
          "metadata": {
            "tags": [],
            "needs_background": "light"
          }
        }
      ]
    },
    {
      "cell_type": "markdown",
      "metadata": {
        "id": "kYaig5VwWksp"
      },
      "source": [
        "##### **Regularization in Normal Equation**"
      ]
    },
    {
      "cell_type": "markdown",
      "metadata": {
        "id": "TgAhnvSUWxRd"
      },
      "source": [
        "To add in regularization, the equation is the same as our original, except that we add another term inside the parentheses:\n",
        "\n",
        "$\\theta = (X^TX-\\lambda L)^{-1}X^TY$\n",
        "\n",
        "$L = \\begin{bmatrix}\n",
        "0 & 0 & 0  & \\dots & 0  \\\\\n",
        "0 & 1 & 0 & \\dots & 0  \\\\\n",
        "0 & 0 & 1  & \\dots & 0  \\\\\n",
        "\\vdots & \\vdots & \\vdots & \\vdots & \\vdots  \\\\\n",
        "0 & 0 & 0 & 0 & 1\n",
        "\\end{bmatrix}$\n",
        "\n",
        "L should have dimension (n+1)×(n+1), its look like identity matrix except 1st term is Zero, this is because we dont want to penalize $\\theta_0$ \n",
        "\n",
        "Recall that if m ≤ n, then $X^TX$ is non-invertible. However, when we add the term $λ⋅L$, then $X^TX$becomes invertible."
      ]
    },
    {
      "cell_type": "markdown",
      "metadata": {
        "id": "UuUsQePREMMS"
      },
      "source": [
        "###### **Code**"
      ]
    },
    {
      "cell_type": "code",
      "metadata": {
        "colab": {
          "base_uri": "https://localhost:8080/"
        },
        "id": "FOeM3na4Wsdi",
        "outputId": "5d75858a-10a5-4d86-b3af-ceb9a5231869"
      },
      "source": [
        "m=50\n",
        "lambda_value = 999999\n",
        "X,y,theta = multiple_data_generate(m) # Generate Data (m=examples,n=features)\n",
        "\n",
        "Xbais = np.insert(X,0,1,axis=1)\n",
        "\n",
        "L = np.eye(X.shape[1]+1)\n",
        "L[0][0] = 0\n",
        "\n",
        "# Regulzarization\n",
        "regularize = lambda_value*L\n",
        "##########################\n",
        "\n",
        "inverse = np.linalg.inv(np.dot(Xbais.T,Xbais)-regularize)\n",
        "temp = np.dot(Xbais.T,y)\n",
        "theta = np.dot(inverse,temp)\n",
        "\n",
        "h = hyp_function(Xbais,theta)\n",
        "J = Cost_function(h,y,theta,lambda_value)\n",
        "print(f\"theta:\\n{theta}\\n\\nCost:{float(J)}\")"
      ],
      "execution_count": null,
      "outputs": [
        {
          "output_type": "stream",
          "text": [
            "theta:\n",
            "[[ 9.27517970e+02]\n",
            " [-1.67825304e-01]\n",
            " [-3.81443242e+00]\n",
            " [ 9.87297748e-02]]\n",
            "\n",
            "Cost:329900.14542379114\n"
          ],
          "name": "stdout"
        }
      ]
    },
    {
      "cell_type": "code",
      "metadata": {
        "colab": {
          "base_uri": "https://localhost:8080/",
          "height": 265
        },
        "id": "O_4qmiswWtiy",
        "outputId": "dd082a42-7fbf-4b12-eeb4-1763311e7dd7"
      },
      "source": [
        "plt.plot(X[:,0],y,'go')\n",
        "plt.plot(X[:,0],Xbais.dot(theta))\n",
        "plt.grid()\n",
        "plt.show()"
      ],
      "execution_count": null,
      "outputs": [
        {
          "output_type": "display_data",
          "data": {
            "image/png": "[encoded data removed]",
            "text/plain": [
              "<Figure size 432x288 with 1 Axes>"
            ]
          },
          "metadata": {
            "tags": [],
            "needs_background": "light"
          }
        }
      ]
    },
    {
      "cell_type": "markdown",
      "metadata": {
        "id": "SBeInb7adffz"
      },
      "source": [
        "##### **Regulzarized Logistic regression**"
      ]
    },
    {
      "cell_type": "markdown",
      "metadata": {
        "id": "76PPM4IZdtRp"
      },
      "source": [
        "We can regularize logistic regression in a similar way that we regularize linear regression. Let's start with the **cost function**.\n",
        "\n",
        "> $J(θ)=-\\frac{1}{m}⋅(y^T\\log(h)+(1−y)^T\\log(1−h))+\\frac{\\lambda}{2m}\\sum_{j=1}^{n}\\theta_j^2$"
      ]
    },
    {
      "cell_type": "code",
      "metadata": {
        "id": "wPdkt6aGaWzT"
      },
      "source": [
        "# Logistics Regession Cost Function\n",
        "def Cost_function(h,y,theta, lambda_value):\n",
        "  regularized = (lambda_value/(2*y.shape[0])) * theta[1:,:].T.dot(theta[1:,:])\n",
        "  return -(1/y.shape[0]) * (np.dot(y.T,np.log(h)) + np.dot((1-y).T,np.log(1-h))) + regularized"
      ],
      "execution_count": null,
      "outputs": []
    },
    {
      "cell_type": "markdown",
      "metadata": {
        "id": "GN5pYCFIhPPS"
      },
      "source": [
        "**Gradient Descent**: Just like with linear regression, we will want to separately update $\\theta_0$ \n",
        "and the rest of the parameters because we do not want to regularize $\\theta_0$\n",
        "\n",
        "$\\theta_j = \\theta_j(1-\\alpha\\frac{\\lambda}{m}) - \\frac{\\alpha}{m}*\\sum_{i=1}^{m}(h_\\theta(x^{(i)}-y^{(i)})x_j^i $\n",
        "\n",
        "identical Gradient Descent for Logistic Regression"
      ]
    },
    {
      "cell_type": "markdown",
      "metadata": {
        "id": "TGF-2ReH0nQl"
      },
      "source": [
        "###### **Polynomial Logistic Regression and Regularization**"
      ]
    },
    {
      "cell_type": "markdown",
      "metadata": {
        "id": "vhoddwN7EJDe"
      },
      "source": [
        "###### **Code**"
      ]
    },
    {
      "cell_type": "code",
      "metadata": {
        "colab": {
          "base_uri": "https://localhost:8080/",
          "height": 265
        },
        "id": "IAJ7V_Byz37I",
        "outputId": "85db0854-5d66-4416-bbae-de0db131e43e"
      },
      "source": [
        "# XNor Logic\n",
        "# 1,1 = 1\n",
        "# 0,1 = 0\n",
        "# 1,0 = 0\n",
        "# 0,0 = 0\n",
        " \n",
        "data = np.array([[1,1,0],[1,0,1],[0,1,1],[0,0,0]])\n",
        "X = data[:,:2]\n",
        "y = data[:,2].reshape(-1,1)\n",
        " \n",
        "pos = X[:,0]\n",
        "neg = X[:,1]\n",
        " \n",
        "pos = data[data[:,2]==1]\n",
        "neg = data[data[:,2]==0]\n",
        "y = data[:,2].reshape(-1,1)\n",
        "plt.plot(pos[:,0],pos[:,1],'ro')\n",
        "plt.plot(neg[:,0],neg[:,1],'bo')\n",
        "plt.grid()\n",
        "plt.show()"
      ],
      "execution_count": null,
      "outputs": [
        {
          "output_type": "display_data",
          "data": {
            "image/png": "[encoded data removed]",
            "text/plain": [
              "<Figure size 432x288 with 1 Axes>"
            ]
          },
          "metadata": {
            "tags": [],
            "needs_background": "light"
          }
        }
      ]
    },
    {
      "cell_type": "code",
      "metadata": {
        "colab": {
          "base_uri": "https://localhost:8080/"
        },
        "id": "QjK1WeD9awPp",
        "outputId": "10c0cf45-f6a8-47da-b9bf-d1dcb2d29e18"
      },
      "source": [
        "# Map Feature Just like (x1,x2,x1^2,x1x2,x2^2,etc)\n",
        "def mapFeature(X1, X2, degree):\n",
        "    res = np.ones(X1.shape[0])\n",
        "    for i in range(1,degree + 1):\n",
        "        for j in range(0,i + 1):\n",
        "            res = np.column_stack((res, (X1 ** (i-j)) * (X2 ** j)))\n",
        "    \n",
        "    return res\n",
        " \n",
        "#set Polynomial Degree\n",
        "degree = 10\n",
        "Xbais = mapFeature(X[:,0],X[:,1],degree)\n",
        " \n",
        "theta = np.random.random((Xbais.shape[1],1))\n",
        " \n",
        "def sigmoid(z):\n",
        "  return (1)/(1+np.exp(-z))\n",
        " \n",
        "def hyp_function(X, theta):\n",
        "  z = X.dot(theta)\n",
        "  return sigmoid(z)\n",
        " \n",
        "def add_bais(X):\n",
        "  return np.insert(X,0,1,axis=1)\n",
        " \n",
        "h = hyp_function(Xbais,theta)\n",
        " \n",
        "lambda_value=0\n",
        "print(f\"Without regularized : {Cost_function(h,y,theta,lambda_value)}\")\n",
        " \n",
        "lambda_value=3\n",
        "print(f\"regularized : ({Cost_function(h,y,theta,lambda_value)}\")"
      ],
      "execution_count": null,
      "outputs": [
        {
          "output_type": "stream",
          "text": [
            "Without regularized : [[7.72449753]]\n",
            "regularized : ([[15.11567566]]\n"
          ],
          "name": "stdout"
        }
      ]
    },
    {
      "cell_type": "code",
      "metadata": {
        "colab": {
          "base_uri": "https://localhost:8080/",
          "height": 296
        },
        "id": "ktRaRNsJxEUW",
        "outputId": "99e31546-adb8-4db9-b06d-52b460b56ad7"
      },
      "source": [
        " \n",
        "itr = 99999\n",
        "alpha= 0.8\n",
        "lambda_value = 1.5\n",
        "theta, J_history= Gradient_Descent_regularization(Xbais, y, theta, alpha, itr,lambda_value)\n",
        "print(f\"Cost: {J_history[-1]}\")"
      ],
      "execution_count": null,
      "outputs": [
        {
          "output_type": "display_data",
          "data": {
            "image/png": "[encoded data removed]",
            "text/plain": [
              "<Figure size 432x288 with 1 Axes>"
            ]
          },
          "metadata": {
            "tags": [],
            "needs_background": "light"
          }
        },
        {
          "output_type": "stream",
          "text": [
            "Cost: 0.46367986884179174\n"
          ],
          "name": "stdout"
        }
      ]
    },
    {
      "cell_type": "code",
      "metadata": {
        "colab": {
          "base_uri": "https://localhost:8080/",
          "height": 300
        },
        "id": "lpq-TYCIzoXO",
        "outputId": "a2681032-3a0a-4036-a0f5-22347b52e18c"
      },
      "source": [
        "# define a function to plot the decision boundary\n",
        "def plotDecisionBoundary(theta,degree, axes):\n",
        "    u = np.linspace(-1, 1.5, 50)\n",
        "    v = np.linspace(-1, 1.5, 50)\n",
        "    U,V = np.meshgrid(u,v)\n",
        "    # convert U, V to vectors for calculating additional features\n",
        "    # using vectorized implementation\n",
        "    U = np.ravel(U)\n",
        "    V = np.ravel(V)\n",
        "    Z = np.zeros((len(u) * len(v)))\n",
        "    \n",
        "    X_poly = mapFeature(U, V, degree)\n",
        "    Z = X_poly.dot(theta)\n",
        "    \n",
        "    # reshape U, V, Z back to matrix\n",
        "    U = U.reshape((len(u), len(v)))\n",
        "    V = V.reshape((len(u), len(v)))\n",
        "    Z = Z.reshape((len(u), len(v)))\n",
        "    \n",
        "    cs = axes.contour(U,V,Z,levels=[0],cmap= \"Greys_r\")\n",
        "    axes.legend(labels=['1', '0', 'Decision Boundary'])\n",
        "    return cs\n",
        "# Plot Decision boundary\n",
        "fig, axes = plt.subplots();\n",
        "axes.set_xlabel('Feature 1')\n",
        "axes.set_ylabel('Feature 2')\n",
        "\n",
        "axes.scatter(pos[:,0], pos[:,1], color = 'r', marker='x', label='1')\n",
        "axes.scatter(neg[:,0], neg[:,1], color = 'g', marker='o', label='0')\n",
        "axes.legend(title='Legend', loc = 'best' )\n",
        "plt.grid()\n",
        "plotDecisionBoundary(theta, degree, axes)"
      ],
      "execution_count": null,
      "outputs": [
        {
          "output_type": "execute_result",
          "data": {
            "text/plain": [
              "<matplotlib.contour.QuadContourSet at 0x7ff885f217f0>"
            ]
          },
          "metadata": {
            "tags": []
          },
          "execution_count": 155
        },
        {
          "output_type": "display_data",
          "data": {
            "image/png": "[encoded data removed]",
            "text/plain": [
              "<Figure size 432x288 with 1 Axes>"
            ]
          },
          "metadata": {
            "tags": [],
            "needs_background": "light"
          }
        }
      ]
    },
    {
      "cell_type": "markdown",
      "metadata": {
        "id": "6z2v_rkXDLrn"
      },
      "source": [
        "\n",
        "##### **Bais Feature**"
      ]
    },
    {
      "cell_type": "markdown",
      "metadata": {
        "id": "A5JdK3x3DQUH"
      },
      "source": [
        "A \"bias\" feature is simply a way to move the \"best fit\" learned vector to better fit the data. For example, consider a learning problem with a single feature $X_1$ The formula without the $X_0$ feature is just $theta_1 * X_1 = y $ This is graphed as a line that always passes through the origin, with slope $\\theta_1$. The $x_0$ term allows the line to pass through a different point on the $y$ axis. This will almost always give a better fit. Not all best fit lines go through the origin (0,0) right?"
      ]
    },
    {
      "cell_type": "code",
      "metadata": {
        "id": "XbqIfo-BZqMP"
      },
      "source": [
        ""
      ],
      "execution_count": null,
      "outputs": []
    }
  ]
}