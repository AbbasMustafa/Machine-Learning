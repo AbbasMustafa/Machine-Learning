{
  "nbformat": 4,
  "nbformat_minor": 0,
  "metadata": {
    "colab": {
      "name": "Week2.ipynb",
      "provenance": [],
      "collapsed_sections": [
        "YPWbLoHkWrgf",
        "2sfjQbYXWl6P",
        "_jKO0cgmwJTw",
        "UP0dFrpb5jwA"
      ],
      "toc_visible": true
    },
    "kernelspec": {
      "name": "python3",
      "display_name": "Python 3"
    }
  },
  "cells": [
    {
      "cell_type": "markdown",
      "metadata": {
        "id": "vIIjkluBnt1-"
      },
      "source": [
        "# **Week 2**"
      ]
    },
    {
      "cell_type": "markdown",
      "metadata": {
        "id": "GHPGFQR1nt7I"
      },
      "source": [
        "## **Day 1**"
      ]
    },
    {
      "cell_type": "markdown",
      "metadata": {
        "id": "n9410fBAnuBw"
      },
      "source": [
        "##### **Linear Regression with Multiple Variables**"
      ]
    },
    {
      "cell_type": "markdown",
      "metadata": {
        "id": "YPWbLoHkWrgf"
      },
      "source": [
        "##### **Notation**"
      ]
    },
    {
      "cell_type": "markdown",
      "metadata": {
        "id": "l9LEtQJ_pt79"
      },
      "source": [
        "* n = number of features\n",
        "* m = number of training examples\n",
        "* $x_{j}^{(i)}$ = value of feature $j$ in the $i^{th}$ example\n",
        "* $x^{(i)}$ = the column vector of all the feature inputs of the $i^{th}$ training example."
      ]
    },
    {
      "cell_type": "markdown",
      "metadata": {
        "id": "2sfjQbYXWl6P"
      },
      "source": [
        "##### **Hypothesis Function**"
      ]
    },
    {
      "cell_type": "markdown",
      "metadata": {
        "id": "6js-5lyEqyG3"
      },
      "source": [
        "Now we have multiple features so Our hypothesis Function will be:\n",
        "> $h_{\\theta}(x) = \\theta_0 + \\theta_1*x_1  + \\theta_2*x_2 + ... + \\theta_n*x_n $\n",
        "\n",
        "> In order to develop intuition about this function, we can think about $\\theta_0$ as the basic price of a house, $\\theta_1$ as the price per square meter,$\\theta_2$\tas the price per floor, etc. $x_1$ will be the number of square meters in the house, $x_2$ the number of floors, etc.\n",
        "\n",
        "> We can caluclate this cost function with the help of vectorization through  matrix multiplication:\n",
        "\n",
        "> $X = \n",
        "\\begin{bmatrix}\n",
        "x_0^{(1)} & x_1^{(1)} & x_2^{(1)} & \\dots & x_n^{(1)} \\\\\n",
        "x_0^{(2)} & x_1^{(2)} & x_2^{(2)} & \\dots & x_n^{(2)}  \\\\\n",
        "x_0^{(3)} & x_1^{(3)} & x_2^{(3)} & \\dots & x_n^{(3)}  \\\\\n",
        "\\vdots & \\vdots & \\vdots & \\vdots & \\vdots  \\\\\n",
        "x_0^{(m)} & x_{1}^{(m)} & x_2^{(m)} & \\dots & x_n^{(m)}\n",
        "\\end{bmatrix}$\n",
        "> $\\theta = \n",
        "\\begin{bmatrix}\n",
        "\\theta_0 \\\\\n",
        "\\theta_1 \\\\\n",
        "\\theta_2 \\\\\n",
        "\\vdots \\\\\n",
        "\\theta_n\n",
        "\\end{bmatrix}$\n",
        "\n",
        "> $h_{\\theta}(x) = X*\\theta$\n",
        "\n",
        "> assume $x_{0}^{(i)}  =1 \\text{ for }  (i\\in { 1,\\dots, m } )$\n",
        "\n",
        ">So that we can do matrix operations with **theta** and **X**, we will set $x^{(i)}_0 = 1$, for all values of i. This makes the two vectors 'theta' and $x_{(i)}$ match each other element-wise (that is, have the same number of elements: n+1).]\n",
        "\n"
      ]
    },
    {
      "cell_type": "markdown",
      "metadata": {
        "id": "_jKO0cgmwJTw"
      },
      "source": [
        "###### **Code**"
      ]
    },
    {
      "cell_type": "code",
      "metadata": {
        "colab": {
          "base_uri": "https://localhost:8080/"
        },
        "id": "pKusc3vPxK8L",
        "outputId": "44460b09-291a-445b-8190-4ff823d7aad1"
      },
      "source": [
        "import numpy as np\n",
        "import matplotlib.pyplot as plt\n",
        "\n",
        "# m = number of examples\n",
        "# n = number of features\n",
        "def multiple_data_generate(m, n):\n",
        "  np.random.seed(42)\n",
        "  X = np.random.random((m,n))*10 # m*n Matrix generated\n",
        "  y = np.array(range(m)).reshape(-1,1) # m*1 vector generated\n",
        "  theta = np.random.random((n+1,1)) # n+1*1 vector generated (+1 because of bais term theta(0))\n",
        "  return X,y,theta\n",
        "\n",
        "\n",
        "m = 10\n",
        "n = 3\n",
        "X,y,theta = multiple_data_generate(m,n)\n",
        "\n",
        "# Add bais Ter infron of X (input matrix)\n",
        "def add_bais(X):\n",
        "  return np.insert(X,0,1,axis=1)\n",
        "Xbais = add_bais(X) \n",
        "\n",
        "# Vectorize Hypothesis Function\n",
        "def hyp_function(X,theta):\n",
        "  return np.dot(X,theta)\n",
        "\n",
        "h = hyp_function(Xbais,theta)\n",
        "print(f\"hypothesis:\\n{h}\")"
      ],
      "execution_count": 1,
      "outputs": [
        {
          "output_type": "stream",
          "text": [
            "hypothesis:\n",
            "[[ 8.81046556]\n",
            " [ 3.21010404]\n",
            " [ 6.97394621]\n",
            " [11.03170426]\n",
            " [ 3.89050116]\n",
            " [ 6.0975461 ]\n",
            " [ 7.33934813]\n",
            " [ 4.51181483]\n",
            " [ 3.79069931]\n",
            " [ 2.31057498]]\n"
          ],
          "name": "stdout"
        }
      ]
    },
    {
      "cell_type": "markdown",
      "metadata": {
        "id": "UP0dFrpb5jwA"
      },
      "source": [
        "##### **Cost Function**"
      ]
    },
    {
      "cell_type": "markdown",
      "metadata": {
        "id": "JeL3y1iH7vil"
      },
      "source": [
        "No we have multiple features so our cost function will be:\n",
        "> The vectorized version is:\n",
        "\n",
        "> $J(\\theta) = \\dfrac {1}{2m} (X\\theta - \\vec{y})^{T} (X\\theta - \\vec{y})$\n",
        "\n",
        ">Note: $\\sum_{i=0}^{m} (h_{\\theta}(x^{(i)}) - y^{(i)})^2  = (X\\theta - \\vec{y})^{T} (X\\theta - \\vec{y})$"
      ]
    },
    {
      "cell_type": "markdown",
      "metadata": {
        "id": "an5oVxad8TUl"
      },
      "source": [
        "###### **Code**"
      ]
    },
    {
      "cell_type": "code",
      "metadata": {
        "colab": {
          "base_uri": "https://localhost:8080/"
        },
        "id": "Ho_Pej6Ixa4X",
        "outputId": "2e085ab5-cc48-482b-d69e-9a7588bf1b4f"
      },
      "source": [
        "def Cost_function(h,y):\n",
        "  error = h-y\n",
        "  sum_sqr_error = np.dot(error.T,error)  # This is method to square and summation\n",
        "  J = 1/(2*m) * sum_sqr_error\n",
        "  return J\n",
        "\n",
        "J = Cost_function(h,y)\n",
        "print(f\"Cost:{float(J)}\")"
      ],
      "execution_count": 2,
      "outputs": [
        {
          "output_type": "stream",
          "text": [
            "Cost:12.171270656686787\n"
          ],
          "name": "stdout"
        }
      ]
    },
    {
      "cell_type": "markdown",
      "metadata": {
        "id": "dJ4k5fJimME0"
      },
      "source": [
        "## **DAY 2**"
      ]
    },
    {
      "cell_type": "markdown",
      "metadata": {
        "id": "bnLiqKFxWNor"
      },
      "source": [
        "##### **Gradient Descent For multivariate Linear Regression**"
      ]
    },
    {
      "cell_type": "markdown",
      "metadata": {
        "id": "bf7q8cRAW2wm"
      },
      "source": [
        "It's generaly have the same form as univariate linear Regression,  we just have to repeat it for our $n feautres$.\n",
        "\n",
        "$Repeat \\{\\\\\n",
        "\\theta_{0} := \\theta_{0}-\\alpha*\\frac{1}{m}\\sum_{i=1}^{m}(h_{\\theta}(x^{(i)})-y^{(i)})\\\\\n",
        "\\theta_{1} := \\theta_{1}-\\alpha*\\frac{1}{m}\\sum_{i=1}^{m}((h_{\\theta}(x^{(i)})-y^{(i)})x_1^{(i)}) \\\\\n",
        "\\theta_{2} := \\theta_{2}-\\alpha*\\frac{1}{m}\\sum_{i=1}^{m}((h_{\\theta}(x^{(i)})-y^{(i)})x_2^{(i)}) \\\\\n",
        "\\vdots \\\\\n",
        "\\theta_{n} := \\theta_{n}-\\alpha*\\frac{1}{m}\\sum_{i=1}^{m}((h_{\\theta}(x^{(i)})-y^{(i)})x_n^{(i)}) \\\\\n",
        "\\}$"
      ]
    },
    {
      "cell_type": "markdown",
      "metadata": {
        "id": "G6fbD1wyZpi8"
      },
      "source": [
        "In others Words\n",
        "\n",
        "> $ Repeat \\{ \\\\\n",
        "\\theta_{j} := \\theta_{j}-\\alpha*\\frac{1}{m}\\sum_{i=1}^{m}((h_{\\theta}(x^{(i)})-y^{(i)})x_j^{(i)}) \\\\\n",
        "for(j := 0\\dots n)\\\\\n",
        "\\}$"
      ]
    },
    {
      "cell_type": "markdown",
      "metadata": {
        "id": "b3RRqenDeYTE"
      },
      "source": [
        "###### **Vectorize form of gradient Descent**"
      ]
    },
    {
      "cell_type": "markdown",
      "metadata": {
        "id": "uFA4czn7ekIy"
      },
      "source": [
        "$X = \n",
        "\\begin{bmatrix}\n",
        "x_0^{(1)} & x_1^{(1)} & x_2^{(1)} & \\dots & x_n^{(1)} \\\\\n",
        "x_0^{(2)} & x_1^{(2)} & x_2^{(2)} & \\dots & x_n^{(2)}  \\\\\n",
        "x_0^{(3)} & x_1^{(3)} & x_2^{(3)} & \\dots & x_n^{(3)}  \\\\\n",
        "\\vdots & \\vdots & \\vdots & \\vdots & \\vdots  \\\\\n",
        "x_0^{(m)} & x_{1}^{(m)} & x_2^{(m)} & \\dots & x_n^{(m)}\n",
        "\\end{bmatrix}\n",
        "\\theta = \n",
        "\\begin{bmatrix}\n",
        "\\theta_0 \\\\\n",
        "\\theta_1 \\\\\n",
        "\\theta_2 \\\\\n",
        "\\vdots \\\\\n",
        "\\theta_n\n",
        "\\end{bmatrix}\\\\\n",
        "$\n",
        "\n",
        ">$\n",
        "\\theta := \\theta - \\frac{\\alpha}{m} * X^T(X\\theta-y)\n",
        "$"
      ]
    },
    {
      "cell_type": "markdown",
      "metadata": {
        "id": "k6lliWfKgQzC"
      },
      "source": [
        "###### **Code**"
      ]
    },
    {
      "cell_type": "code",
      "metadata": {
        "id": "uHGDp6TK9baP"
      },
      "source": [
        "def Gradient_Descent(X, y, theta, alpha=0.01, itr=10):\n",
        "  J_history = []\n",
        "  theta_values = []\n",
        "  counter = 0\n",
        "  while counter < itr:\n",
        "    h = hyp_function(Xbais,theta) # Hypothesis Function\n",
        "    J = Cost_function(h, y) # Cost  function\n",
        " \n",
        "    theta = theta - (alpha/m) * np.dot(X.T,(h - y)) # Vectorize Form  \n",
        "    \n",
        "    J_history.append(float(J)) # Save Cost History\n",
        "    counter +=1\n",
        " \n",
        "  # Plot Graph Cost Function Vs. Iteration\n",
        "  plt.plot(range(len(J_history)),J_history,'r')\n",
        "  plt.xlabel('Iteration')\n",
        "  plt.ylabel('Cost')\n",
        "  plt.grid(True)\n",
        "  plt.show(True)\n",
        " \n",
        "  return theta, J_history"
      ],
      "execution_count": 3,
      "outputs": []
    },
    {
      "cell_type": "code",
      "metadata": {
        "colab": {
          "base_uri": "https://localhost:8080/",
          "height": 381
        },
        "id": "hakwzdwthnt8",
        "outputId": "9ce43e91-2fd8-43e9-9add-6ab4080905f6"
      },
      "source": [
        "# alpha = 0.01\n",
        "m=10\n",
        "n=3\n",
        "X,y,theta = multiple_data_generate(m, n) # Generate Data (m=examples,n=features)\n",
        "Xbais = add_bais(X)\n",
        "itr = 30\n",
        "alpha= 0.01\n",
        "theta, J_history= Gradient_Descent(Xbais, y, theta, alpha, itr)\n",
        "print(f\"Cost: {J_history[-1]} \\ntheta:\\n{theta}\")"
      ],
      "execution_count": 4,
      "outputs": [
        {
          "output_type": "display_data",
          "data": {
            "image/png": "[encoded data removed]",
            "text/plain": [
              "<Figure size 432x288 with 1 Axes>"
            ]
          },
          "metadata": {
            "tags": [],
            "needs_background": "light"
          }
        },
        {
          "output_type": "stream",
          "text": [
            "Cost: 5.032000432539577 \n",
            "theta:\n",
            "[[ 0.75121869]\n",
            " [ 0.44955671]\n",
            " [ 0.33312659]\n",
            " [-0.04156719]]\n"
          ],
          "name": "stdout"
        }
      ]
    },
    {
      "cell_type": "code",
      "metadata": {
        "colab": {
          "base_uri": "https://localhost:8080/",
          "height": 392
        },
        "id": "a0mNDx_mkUbb",
        "outputId": "cf9e948b-873b-4bb3-cdd1-47a916d8959f"
      },
      "source": [
        "# alpha = 0.06\n",
        "m=10\n",
        "n=3\n",
        "X,y,theta = multiple_data_generate(m, n) # Generate Data (m=examples,n=features)\n",
        "Xbais = add_bais(X)\n",
        "itr = 30\n",
        "alpha= 0.06\n",
        "theta, J_history= Gradient_Descent(Xbais, y, theta, alpha, itr)\n",
        "print(f\"Cost: {J_history[-1]} \\ntheta:\\n{theta}\")"
      ],
      "execution_count": 5,
      "outputs": [
        {
          "output_type": "display_data",
          "data": {
            "image/png": "[encoded data removed]",
            "text/plain": [
              "<Figure size 432x288 with 1 Axes>"
            ]
          },
          "metadata": {
            "tags": [],
            "needs_background": "light"
          }
        },
        {
          "output_type": "stream",
          "text": [
            "Cost: 1.6348053140445032e+26 \n",
            "theta:\n",
            "[[7.69133005e+11]\n",
            " [3.32114144e+12]\n",
            " [3.81343545e+12]\n",
            " [3.76638414e+12]]\n"
          ],
          "name": "stdout"
        }
      ]
    },
    {
      "cell_type": "markdown",
      "metadata": {
        "id": "UNrzxlD8meRX"
      },
      "source": [
        "Note: Carefull examine Both Graph when we tweek little bit on value of alpha from 0.01 to 0.03 it's start to diverge and cost will rapidly increase as shown in figure above, this is because we have input values in large range e.g (0 to 9) we need to scale it down to Run gradient descent on large value of alpha, that's why we need Feature Normaization.  "
      ]
    },
    {
      "cell_type": "markdown",
      "metadata": {
        "id": "fpxDeVuKwjt7"
      },
      "source": [
        "## **Day 3**"
      ]
    },
    {
      "cell_type": "markdown",
      "metadata": {
        "id": "K64MUCBzqyyC"
      },
      "source": [
        "##### **Feature Nortmalization**"
      ]
    },
    {
      "cell_type": "markdown",
      "metadata": {
        "id": "cVDRlO4UrNH4"
      },
      "source": [
        "**Idea**: We can speed up gradient descent by having each of our input values in roughly the same range. This is because $\\theta$ will descend quickly on small ranges and slowly on large ranges\n",
        "\n",
        "The way to prevent this is to modify the ranges of our input variables so that they are all roughly the same. Ideally:\n",
        "\n",
        "$−1 ≤ x_{(i)} ≤ 1\n",
        "\\\\\n",
        "or \\\\\n",
        "−0.5 ≤ x_{(i)} ≤ 0.5\n",
        "$ \n"
      ]
    },
    {
      "cell_type": "markdown",
      "metadata": {
        "id": "lQCr8UeDs7jm"
      },
      "source": [
        "Two techniques to help with this are **Normalization** and **Standardization**.\n",
        "\n",
        "**Normalization**: involves dividing the input values by the range (i.e. the maximum value minus the minimum value) of the input variable.\n",
        "\n",
        "$X^{'} := \\frac{X-X_{min}}{X_{max}-X_{min}}$\n",
        "\n",
        "**Standardization**: involves subtracting the average value for an input variable from the values for that input variable.\n",
        "\n",
        "$X^{'} := \\frac{X-\\mu}{std(X)}$\n",
        "\n",
        "$ \\mu $ is an average of X and std(x) is standard deviation of an X.\n",
        "\n",
        "read more about it -> https://www.analyticsvidhya.com/blog/2020/04/feature-scaling-machine-learning-normalization-standardization/"
      ]
    },
    {
      "cell_type": "markdown",
      "metadata": {
        "id": "1m1w6xKGnWI1"
      },
      "source": [
        "###### **Code**"
      ]
    },
    {
      "cell_type": "code",
      "metadata": {
        "id": "icxm-DpXkLJW"
      },
      "source": [
        "# Normalization\n",
        "def Normalization(X):\n",
        "  Xarray = []\n",
        "  sigma = []\n",
        "  mu = []\n",
        "  for i in range(X.shape[1]):\n",
        "    mu.append(np.min(X[:,i]))\n",
        "    sigma.append(np.max(X[:,i] )-np.min(X[:,i]))\n",
        "    Xarray.append((X[:,i]-mu[i])/(sigma[i]))\n",
        "  return np.array(Xarray).T,mu,sigma\n",
        "\n",
        "# Standarization\n",
        "def Standarization(X):\n",
        "  Xarray = []\n",
        "  sigma = []\n",
        "  mu = []\n",
        "  for i in range(X.shape[1]):\n",
        "    mu.append(np.min(X[:,i]))\n",
        "    sigma.append(np.std(X[:,i]))\n",
        "    Xarray.append((X[:,i]-mu[i])/(sigma[i]))\n",
        "  return np.array(Xarray).T,mu,sigma"
      ],
      "execution_count": 6,
      "outputs": []
    },
    {
      "cell_type": "markdown",
      "metadata": {
        "id": "VTwfhihENGbd"
      },
      "source": [
        "##### **Important to store the values used for Un seen $x$**"
      ]
    },
    {
      "cell_type": "markdown",
      "metadata": {
        "id": "2wgyezE-HEgL"
      },
      "source": [
        "When normalizing the features, it is important to store the values used for normalization - the **mean value** and the **standard deviation** used for the computations. After learning the parameters from the model, we often want to **predict the value we have not seen before**. Given a new $x$ value, we must first normalize $x$ using the mean and standard deviation that we had previously computed from the training set."
      ]
    },
    {
      "cell_type": "code",
      "metadata": {
        "id": "CU_YoIE_mBW1",
        "colab": {
          "base_uri": "https://localhost:8080/"
        },
        "outputId": "5e844b7d-26b0-4193-d491-e4e0b1bcfbfe"
      },
      "source": [
        "# Range Between 0 and 1\n",
        "Xnorm,mu,sigma = Normalization(X)\n",
        "print(f\"Xnorm:\\n{Xnorm}\")"
      ],
      "execution_count": 7,
      "outputs": [
        {
          "output_type": "stream",
          "text": [
            "Xnorm:\n",
            "[[0.40866897 1.         0.74236453]\n",
            " [0.69809333 0.14560779 0.11862363]\n",
            " [0.         0.90911144 0.60063775]\n",
            " [0.83938966 0.         1.        ]\n",
            " [1.         0.20615898 0.14659502]\n",
            " [0.16183823 0.30496576 0.51795022]\n",
            " [0.48280112 0.29097513 0.61226564]\n",
            " [0.10513243 0.29195941 0.34642716]\n",
            " [0.51395587 0.82202662 0.16592323]\n",
            " [0.58906891 0.61478523 0.        ]]\n"
          ],
          "name": "stdout"
        }
      ]
    },
    {
      "cell_type": "code",
      "metadata": {
        "id": "kBjVtFUAmZ2o",
        "colab": {
          "base_uri": "https://localhost:8080/"
        },
        "outputId": "1f6dc9a8-cdbf-44b1-99f9-3fdcec97440b"
      },
      "source": [
        "# Values are Centerd arround mean\n",
        "# with a unit of standard deviation\n",
        "Xstd,mu,sigma = Standarization(X)\n",
        "print(f\"Xstd:\\n{Xstd}\")"
      ],
      "execution_count": 8,
      "outputs": [
        {
          "output_type": "stream",
          "text": [
            "Xstd:\n",
            "[[1.334762   3.00961573 2.43274378]\n",
            " [2.28005676 0.43822349 0.38873206]\n",
            " [0.         2.73607609 1.96830222]\n",
            " [2.74154759 0.         3.27702051]\n",
            " [3.26612026 0.62045932 0.48039489]\n",
            " [0.52858313 0.91782976 1.69733349]\n",
            " [1.57688652 0.87572334 2.00640705]\n",
            " [0.34337517 0.87868564 1.13524891]\n",
            " [1.67864169 2.47398425 0.54373381]\n",
            " [1.92396989 1.85026731 0.        ]]\n"
          ],
          "name": "stdout"
        }
      ]
    },
    {
      "cell_type": "markdown",
      "metadata": {
        "id": "eRboChYcxYP1"
      },
      "source": [
        "Now lets See that Our Algorithm Coverge More Quickly than Unscale features. "
      ]
    },
    {
      "cell_type": "markdown",
      "metadata": {
        "id": "buZm1MexxtDC"
      },
      "source": [
        "###### **Code**"
      ]
    },
    {
      "cell_type": "code",
      "metadata": {
        "colab": {
          "base_uri": "https://localhost:8080/",
          "height": 392
        },
        "id": "6myudRqWiN3s",
        "outputId": "23327e4a-b371-4eea-83ca-cf7bae1c7e75"
      },
      "source": [
        "# Unscaled Feature (Note: Cost Values is increasing on every iteration)\n",
        "# at alpha 0.06\n",
        "m=10\n",
        "n=3\n",
        "X,y,theta = multiple_data_generate(m, n) # Generate Data (m=examples,n=features)\n",
        "Xbais = add_bais(X)\n",
        "itr = 30\n",
        "alpha= 0.06\n",
        "theta, J_history= Gradient_Descent(Xbais, y, theta, alpha, itr)\n",
        "print(f\"Cost: {J_history[-1]} \\ntheta:\\n{theta}\")"
      ],
      "execution_count": 9,
      "outputs": [
        {
          "output_type": "display_data",
          "data": {
            "image/png": "[encoded data removed]",
            "text/plain": [
              "<Figure size 432x288 with 1 Axes>"
            ]
          },
          "metadata": {
            "tags": [],
            "needs_background": "light"
          }
        },
        {
          "output_type": "stream",
          "text": [
            "Cost: 1.6348053140445032e+26 \n",
            "theta:\n",
            "[[7.69133005e+11]\n",
            " [3.32114144e+12]\n",
            " [3.81343545e+12]\n",
            " [3.76638414e+12]]\n"
          ],
          "name": "stdout"
        }
      ]
    },
    {
      "cell_type": "code",
      "metadata": {
        "colab": {
          "base_uri": "https://localhost:8080/",
          "height": 381
        },
        "id": "hECT_FEUqzax",
        "outputId": "08701f82-dae4-46e9-e7f4-b9a405369057"
      },
      "source": [
        "# scaled Feature (Normalization)\n",
        "# (Note: Cost Values is decreasing on every iteration)\n",
        "# at alpha 0.06\n",
        "m=10\n",
        "n=3\n",
        "X,y,theta = multiple_data_generate(m, n) # Generate Data (m=examples,n=features)\n",
        "\n",
        "# Normalization\n",
        "Xscaled,mu,sigma = Normalization(X)\n",
        "\n",
        "# Standarization (Uncomment to use Standarizsation)\n",
        "# Don't forget to comment Normalization :)\n",
        "#Xscaled,mu,sigma = Standarization(X)\n",
        "\n",
        "Xbais = add_bais(Xscaled)\n",
        "itr = 30\n",
        "alpha= 0.06\n",
        "theta, J_history= Gradient_Descent(Xbais, y, theta, alpha, itr)\n",
        "print(f\"Cost: {J_history[-1]} \\ntheta:\\n{theta}\")"
      ],
      "execution_count": 10,
      "outputs": [
        {
          "output_type": "display_data",
          "data": {
            "image/png": "[encoded data removed]",
            "text/plain": [
              "<Figure size 432x288 with 1 Axes>"
            ]
          },
          "metadata": {
            "tags": [],
            "needs_background": "light"
          }
        },
        {
          "output_type": "stream",
          "text": [
            "Cost: 4.774822513175425 \n",
            "theta:\n",
            "[[2.80723692]\n",
            " [1.08664404]\n",
            " [0.93990783]\n",
            " [0.96656187]]\n"
          ],
          "name": "stdout"
        }
      ]
    },
    {
      "cell_type": "markdown",
      "metadata": {
        "id": "QcHCr8q20rlk"
      },
      "source": [
        "##### **Gradient Descent Tips**"
      ]
    },
    {
      "cell_type": "markdown",
      "metadata": {
        "id": "cjN9bvgi0zQ5"
      },
      "source": [
        "> **Debugging gradient descent**. Make a plot with number of iterations on the x-axis. Now plot the cost function, $J(\\theta)$ over the number of iterations of gradient descent. If $J(\\theta)$ ever increases, then you probably need to decrease $\\alpha$.\n",
        "\n",
        "> It has been proven that if learning rate α is sufficiently small, then J(θ) will decrease on every iteration. Andrew Ng recommends decreasing α by multiples of 3"
      ]
    },
    {
      "cell_type": "markdown",
      "metadata": {
        "id": "nDzD1ZNs5TsJ"
      },
      "source": [
        "##### **Usefull tip about Features**"
      ]
    },
    {
      "cell_type": "markdown",
      "metadata": {
        "id": "BzZlVBEr5bHe"
      },
      "source": [
        "> We can **combine** multiple features into one. For example, we can combine $x_1$ and $x_2$ into a new feature $x_3$ by taking $x_1⋅x_2$, e.g (width and lenght) multiply them it becomes area."
      ]
    },
    {
      "cell_type": "markdown",
      "metadata": {
        "id": "NDi5mxDkGYw1"
      },
      "source": [
        "##### **Polynomial Regression**"
      ]
    },
    {
      "cell_type": "markdown",
      "metadata": {
        "id": "WZgYr1Y-GcwL"
      },
      "source": [
        "So Now we have a problem When our data is not in linear, Linear Regression will fail to fit it, That's why we need polynomial Regression.\n",
        "\n",
        "We can **change the behavior or curve** of our hypothesis function by making it a quadratic, cubic or square root function (or any other form).\n",
        "\n",
        "**Diffrent hypothesis Functions**\n",
        "* Straight Line ($h_{\\theta}(x) = \\theta_0 + \\theta_1*x_1$)\n",
        "* Quadratic function ($h_{\\theta}(x) = \\theta_0 + \\theta_1*x_1 + \\theta_2*x_1^2 $)\n",
        "* Cubic function ($h_{\\theta}(x) = \\theta_0 + \\theta_1*x_1 + \\theta_2*x_1^2 + \\theta_3*x_1^3 $)\n",
        "* Square Root function ($h_{\\theta}(x) = \\theta_0 + \\theta_1*x_1 + \\theta_2*\\sqrt{x_1} $)\n",
        "\n",
        "In the Polynomial version, we have created new features $x_2$ and $x_3$ where $x_2 = x_1^2$ and $x_3=x_1^3$\n",
        "\n",
        "**One important thing** to keep in mind is, if you choose your features this way then feature scaling becomes very important.\n",
        "​\t\n",
        " .\n"
      ]
    },
    {
      "cell_type": "markdown",
      "metadata": {
        "id": "67b_bLu6J79O"
      },
      "source": [
        "###### **Code**"
      ]
    },
    {
      "cell_type": "code",
      "metadata": {
        "id": "qnr_C5_CrqKH",
        "colab": {
          "base_uri": "https://localhost:8080/",
          "height": 296
        },
        "outputId": "94d0ac02-a2f9-464a-888d-342d963234ee"
      },
      "source": [
        "m=30\n",
        "X = np.array(range(m)).reshape(-1,1)\n",
        "X = np.insert(X,1,np.power(X,2).T,axis=1) # Making Extra feautre with square of 1st feature\n",
        "y = np.array(np.power(range(m),2)).reshape(-1,1) # Or label data is in square fucntion\n",
        "np.random.seed(10)\n",
        "\n",
        "# Now theta will be 3*1 becuase we create new feature by using sqr(x_1) \n",
        "theta = np.random.random((X.shape[1]+1,1))\n",
        "\n",
        "Xbais = add_bais(X)\n",
        "h = hyp_function(Xbais,theta)\n",
        "\n",
        "# Plot X,y Graph\n",
        "plt.plot(X[:,0],y,'go')\n",
        "plt.plot(X[:,0],h,'b')\n",
        "plt.xlabel('Input Data')\n",
        "plt.ylabel('Output Data')\n",
        "plt.grid(True)\n",
        "plt.show(True)\n",
        "\n",
        "J = Cost_function(h,y)\n",
        "print(f\"Cost:{float(J)}\")"
      ],
      "execution_count": 11,
      "outputs": [
        {
          "output_type": "display_data",
          "data": {
            "image/png": "[encoded data removed]",
            "text/plain": [
              "<Figure size 432x288 with 1 Axes>"
            ]
          },
          "metadata": {
            "tags": [],
            "needs_background": "light"
          }
        },
        {
          "output_type": "stream",
          "text": [
            "Cost:9857.548008015234\n"
          ],
          "name": "stdout"
        }
      ]
    },
    {
      "cell_type": "markdown",
      "metadata": {
        "id": "aXNZ5NrUNen8"
      },
      "source": [
        "**Now we have to fit our \"Hypothesis\" in it**"
      ]
    },
    {
      "cell_type": "code",
      "metadata": {
        "colab": {
          "base_uri": "https://localhost:8080/",
          "height": 364
        },
        "id": "OL0wizMDKQ_5",
        "outputId": "380f00f5-206b-4702-b4fc-01aca892f91e"
      },
      "source": [
        "# Normalization\n",
        "Xscaled,mu,sigma = Standarization(X)\n",
        "# Add bais Term\n",
        "Xbais = add_bais(Xscaled)\n",
        "\n",
        "np.random.seed(10)\n",
        "theta = np.random.random((X.shape[1]+1,1))\n",
        "\n",
        "itr = 999\n",
        "alpha= 0.3\n",
        "theta, J_history= Gradient_Descent(Xbais, y, theta, alpha, itr)\n",
        "print(f\"Cost: {J_history[-1]} \\ntheta:\\n{theta}\")"
      ],
      "execution_count": 12,
      "outputs": [
        {
          "output_type": "display_data",
          "data": {
            "image/png": "[encoded data removed]",
            "text/plain": [
              "<Figure size 432x288 with 1 Axes>"
            ]
          },
          "metadata": {
            "tags": [],
            "needs_background": "light"
          }
        },
        {
          "output_type": "stream",
          "text": [
            "Cost: 9.757972919904469e-05 \n",
            "theta:\n",
            "[[-1.08727120e-02]\n",
            " [ 2.38827140e-02]\n",
            " [ 2.59752202e+02]]\n"
          ],
          "name": "stdout"
        }
      ]
    },
    {
      "cell_type": "code",
      "metadata": {
        "colab": {
          "base_uri": "https://localhost:8080/",
          "height": 279
        },
        "id": "5CVvAgKNOJgw",
        "outputId": "3a4cd8bc-28c7-48dd-fc11-c948aeddad8f"
      },
      "source": [
        "h = hyp_function(Xbais,theta)\n",
        "\n",
        "# Plot X,y Graph\n",
        "plt.plot(Xbais[:,1],y,'go')\n",
        "plt.plot(Xbais[:,1],h,'b')\n",
        "plt.xlabel('Input Data')\n",
        "plt.ylabel('Output Data')\n",
        "plt.grid(True)\n",
        "plt.show(True)"
      ],
      "execution_count": 13,
      "outputs": [
        {
          "output_type": "display_data",
          "data": {
            "image/png": "[encoded data removed]",
            "text/plain": [
              "<Figure size 432x288 with 1 Axes>"
            ]
          },
          "metadata": {
            "tags": [],
            "needs_background": "light"
          }
        }
      ]
    },
    {
      "cell_type": "markdown",
      "metadata": {
        "id": "grsTD5XoIEea"
      },
      "source": [
        "###### **For unseen Value**"
      ]
    },
    {
      "cell_type": "code",
      "metadata": {
        "colab": {
          "base_uri": "https://localhost:8080/"
        },
        "id": "E-8iro9UILaJ",
        "outputId": "9eee0e2e-e08f-4079-81ff-eb1237341f18"
      },
      "source": [
        "v = 88\n",
        "X = np.array([[v,np.square(v)]])\n",
        "Xchanged = (X-mu)/sigma # Previous Saved mu and sigma\n",
        "Xbais = add_bais(Xchanged)\n",
        "pred = Xbais.dot(theta)\n",
        "if(round(float(pred)) == np.square(v)): # predicted value is round because of some approximation error\n",
        "  print(f\"square of {v} is: appoximated values {float(pred)} Correct Prediction\")\n"
      ],
      "execution_count": 14,
      "outputs": [
        {
          "output_type": "stream",
          "text": [
            "square of 88 is: appoximated values 7743.730851492523 Correct Prediction\n"
          ],
          "name": "stdout"
        }
      ]
    },
    {
      "cell_type": "markdown",
      "metadata": {
        "id": "hQu_QlY9RV9u"
      },
      "source": [
        "**That's How we fix polynomial Function in our dataset**"
      ]
    },
    {
      "cell_type": "markdown",
      "metadata": {
        "id": "u9FjauYOWzt0"
      },
      "source": [
        "##### **Normal Equation**"
      ]
    },
    {
      "cell_type": "markdown",
      "metadata": {
        "id": "vF3hsEKNYSj8"
      },
      "source": [
        "Normal Equation is an **analytical approach** to Linear Regression with a Least Square Cost Function. We can directly find out the value of $\\theta$ without using Gradient Descent.\n",
        "\n",
        "> $\\theta = (X^TX)^{-1}X^Ty$\n",
        "\n",
        "There is **no need to do feature scaling** with the normal equation.\n",
        "\n",
        "Mathematical proof of the Normal equation: https://eli.thegreenplace.net/2014/derivation-of-the-normal-equation-for-linear-regression"
      ]
    },
    {
      "cell_type": "markdown",
      "metadata": {
        "id": "wP9GBTWwZJne"
      },
      "source": [
        "###### **Gradient Descent Vs. Normal Equation**"
      ]
    },
    {
      "cell_type": "markdown",
      "metadata": {
        "id": "4n7Fc5MbZU2j"
      },
      "source": [
        "**Gradient Descent**\n",
        "\n",
        "1.  Need to choose $\\alpha$\n",
        "2.  Need Many Iterations\n",
        "3.  Complexity ($O(kn^2)$)\n",
        "4.  Works well when $n$ is large \n",
        "\n",
        "**Normal Equation**\n",
        "\n",
        "1.  No need to choose $\\alpha$\n",
        "2.  No need to Iterate\n",
        "3.  Complexity ($O(n^3)$)\n",
        "4.  Slow when $n$ is large. "
      ]
    },
    {
      "cell_type": "markdown",
      "metadata": {
        "id": "AIQ2vKnbb5jh"
      },
      "source": [
        "###### **Code**"
      ]
    },
    {
      "cell_type": "code",
      "metadata": {
        "id": "aUW431uiPekz",
        "colab": {
          "base_uri": "https://localhost:8080/"
        },
        "outputId": "98253cfb-be71-4e20-9487-04918cc70397"
      },
      "source": [
        "m=10\n",
        "n=3\n",
        "X = np.array(range(m)).reshape(-1,1)\n",
        "X = np.insert(X,1,np.power(X,2).T,axis=1) # Making Extra feautre with square of 1st feature\n",
        "y = np.array(np.power(range(m),2)).reshape(-1,1) # Or label data is in square fucntion\n",
        "\n",
        "Xbais = add_bais(X)\n",
        "\n",
        "# Normal Equation\n",
        "inverse = np.linalg.inv(np.dot(Xbais.T,Xbais))\n",
        "temp = np.dot(Xbais.T,y)\n",
        "theta = np.dot(inverse,temp)\n",
        "\n",
        "h = hyp_function(Xbais,theta)\n",
        "J = Cost_function(h,y)\n",
        "print(f\"theta:\\n{theta}\\n\\nCost:{float(J)}\")"
      ],
      "execution_count": 15,
      "outputs": [
        {
          "output_type": "stream",
          "text": [
            "theta:\n",
            "[[-5.60523850e-14]\n",
            " [-1.77011183e-14]\n",
            " [ 1.00000000e+00]]\n",
            "\n",
            "Cost:2.770954520127327e-27\n"
          ],
          "name": "stdout"
        }
      ]
    },
    {
      "cell_type": "markdown",
      "metadata": {
        "id": "rSVnDd0oLKBO"
      },
      "source": [
        "**for unseen Value (Normal Equation)**"
      ]
    },
    {
      "cell_type": "code",
      "metadata": {
        "colab": {
          "base_uri": "https://localhost:8080/"
        },
        "id": "Jl7SAD3_LRsh",
        "outputId": "15348ab0-591c-414f-d255-9632d384c32f"
      },
      "source": [
        "v = 88\n",
        "X = np.array([[v,np.square(v)]])\n",
        "Xbais = add_bais(X)\n",
        "pred = Xbais.dot(theta)\n",
        "if(round(float(pred)) == np.square(v)):  # predicted value is round because of some approximation error\n",
        "  print(f\"square of {v} is: appoximated values {float(pred)} Correct Prediction\")"
      ],
      "execution_count": 16,
      "outputs": [
        {
          "output_type": "stream",
          "text": [
            "square of 88 is: appoximated values 7744.0000000000155 Correct Prediction\n"
          ],
          "name": "stdout"
        }
      ]
    },
    {
      "cell_type": "markdown",
      "metadata": {
        "id": "7n4rHOPjiufI"
      },
      "source": [
        "Let's Look at the value of Cost, it's will definitly less than gradient descent method, this is because we limit out iteration to 30."
      ]
    },
    {
      "cell_type": "markdown",
      "metadata": {
        "id": "rRHnzMlfjLb1"
      },
      "source": [
        "###### **Non-invertiblity**"
      ]
    },
    {
      "cell_type": "markdown",
      "metadata": {
        "id": "pEUgdmZXjP6f"
      },
      "source": [
        "$X^TX$ may be non-invertible. The common causes are:\n",
        "\n",
        "* **Redundant features**: where two features are very closely related (i.e. they are linearly dependent)\n",
        "* **Too many features (e.g. m ≤ n)**: In this case, delete some features or use \"regularization\" (to be explained in a later lesson).\n",
        "\n",
        "Solutions to the above problems include deleting a feature that is linearly dependent with another or deleting one or more features when there are too many features."
      ]
    },
    {
      "cell_type": "markdown",
      "metadata": {
        "id": "4h23jfKk3B2-"
      },
      "source": [
        "##### **Fact About Regrssion**\n",
        "\n",
        "https://blog.minitab.com/blog/statistics-and-quality-data-analysis/so-why-is-it-called-regression-anyway"
      ]
    },
    {
      "cell_type": "code",
      "metadata": {
        "id": "AyeA38aTQVls"
      },
      "source": [
        ""
      ],
      "execution_count": 16,
      "outputs": []
    }
  ]
}